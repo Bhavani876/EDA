{
 "cells": [
  {
   "cell_type": "code",
   "execution_count": 1,
   "id": "82d4972e",
   "metadata": {},
   "outputs": [],
   "source": [
    "import numpy as np\n",
    "import pandas as pd\n",
    "import matplotlib.pyplot as plt\n",
    "import seaborn as sb\n",
    "import scipy.stats as st\n",
    "import statistics as st\n",
    "from tabulate import tabulate\n",
    "import warnings\n",
    "warnings.filterwarnings('ignore')"
   ]
  },
  {
   "cell_type": "code",
   "execution_count": 2,
   "id": "24b62729",
   "metadata": {},
   "outputs": [
    {
     "data": {
      "text/html": [
       "<div>\n",
       "<style scoped>\n",
       "    .dataframe tbody tr th:only-of-type {\n",
       "        vertical-align: middle;\n",
       "    }\n",
       "\n",
       "    .dataframe tbody tr th {\n",
       "        vertical-align: top;\n",
       "    }\n",
       "\n",
       "    .dataframe thead th {\n",
       "        text-align: right;\n",
       "    }\n",
       "</style>\n",
       "<table border=\"1\" class=\"dataframe\">\n",
       "  <thead>\n",
       "    <tr style=\"text-align: right;\">\n",
       "      <th></th>\n",
       "      <th>CLIENTNUM</th>\n",
       "      <th>Attrition_Flag</th>\n",
       "      <th>Customer_Age</th>\n",
       "      <th>Gender</th>\n",
       "      <th>Dependent_count</th>\n",
       "      <th>Education_Level</th>\n",
       "      <th>Marital_Status</th>\n",
       "      <th>Income_Category</th>\n",
       "      <th>Card_Category</th>\n",
       "      <th>Months_on_book</th>\n",
       "      <th>Total_Relationship_Count</th>\n",
       "      <th>Months_Inactive_12_mon</th>\n",
       "      <th>Contacts_Count_12_mon</th>\n",
       "      <th>Credit_Limit</th>\n",
       "      <th>Total_Revolving_Bal</th>\n",
       "      <th>Avg_Open_To_Buy</th>\n",
       "      <th>Total_Trans_Amt</th>\n",
       "      <th>Total_Trans_Ct</th>\n",
       "      <th>Avg_Utilization_Ratio</th>\n",
       "    </tr>\n",
       "  </thead>\n",
       "  <tbody>\n",
       "    <tr>\n",
       "      <th>0</th>\n",
       "      <td>768805383</td>\n",
       "      <td>Existing Customer</td>\n",
       "      <td>45</td>\n",
       "      <td>M</td>\n",
       "      <td>3</td>\n",
       "      <td>High School</td>\n",
       "      <td>Married</td>\n",
       "      <td>$60K - $80K</td>\n",
       "      <td>Blue</td>\n",
       "      <td>39</td>\n",
       "      <td>5</td>\n",
       "      <td>1</td>\n",
       "      <td>3</td>\n",
       "      <td>12691.0</td>\n",
       "      <td>777</td>\n",
       "      <td>11914.0</td>\n",
       "      <td>1144</td>\n",
       "      <td>42</td>\n",
       "      <td>0.061</td>\n",
       "    </tr>\n",
       "    <tr>\n",
       "      <th>1</th>\n",
       "      <td>818770008</td>\n",
       "      <td>Existing Customer</td>\n",
       "      <td>49</td>\n",
       "      <td>F</td>\n",
       "      <td>5</td>\n",
       "      <td>Graduate</td>\n",
       "      <td>Single</td>\n",
       "      <td>Less than $40K</td>\n",
       "      <td>Blue</td>\n",
       "      <td>44</td>\n",
       "      <td>6</td>\n",
       "      <td>1</td>\n",
       "      <td>2</td>\n",
       "      <td>8256.0</td>\n",
       "      <td>864</td>\n",
       "      <td>7392.0</td>\n",
       "      <td>1291</td>\n",
       "      <td>33</td>\n",
       "      <td>0.105</td>\n",
       "    </tr>\n",
       "    <tr>\n",
       "      <th>2</th>\n",
       "      <td>713982108</td>\n",
       "      <td>Existing Customer</td>\n",
       "      <td>51</td>\n",
       "      <td>M</td>\n",
       "      <td>3</td>\n",
       "      <td>Graduate</td>\n",
       "      <td>Married</td>\n",
       "      <td>$80K - $120K</td>\n",
       "      <td>Blue</td>\n",
       "      <td>36</td>\n",
       "      <td>4</td>\n",
       "      <td>1</td>\n",
       "      <td>0</td>\n",
       "      <td>3418.0</td>\n",
       "      <td>0</td>\n",
       "      <td>3418.0</td>\n",
       "      <td>1887</td>\n",
       "      <td>20</td>\n",
       "      <td>0.000</td>\n",
       "    </tr>\n",
       "    <tr>\n",
       "      <th>3</th>\n",
       "      <td>769911858</td>\n",
       "      <td>Existing Customer</td>\n",
       "      <td>40</td>\n",
       "      <td>F</td>\n",
       "      <td>4</td>\n",
       "      <td>High School</td>\n",
       "      <td>Unknown</td>\n",
       "      <td>Less than $40K</td>\n",
       "      <td>Blue</td>\n",
       "      <td>34</td>\n",
       "      <td>3</td>\n",
       "      <td>4</td>\n",
       "      <td>1</td>\n",
       "      <td>3313.0</td>\n",
       "      <td>2517</td>\n",
       "      <td>796.0</td>\n",
       "      <td>1171</td>\n",
       "      <td>20</td>\n",
       "      <td>0.760</td>\n",
       "    </tr>\n",
       "    <tr>\n",
       "      <th>4</th>\n",
       "      <td>709106358</td>\n",
       "      <td>Existing Customer</td>\n",
       "      <td>40</td>\n",
       "      <td>M</td>\n",
       "      <td>3</td>\n",
       "      <td>Uneducated</td>\n",
       "      <td>Married</td>\n",
       "      <td>$60K - $80K</td>\n",
       "      <td>Blue</td>\n",
       "      <td>21</td>\n",
       "      <td>5</td>\n",
       "      <td>1</td>\n",
       "      <td>0</td>\n",
       "      <td>4716.0</td>\n",
       "      <td>0</td>\n",
       "      <td>4716.0</td>\n",
       "      <td>816</td>\n",
       "      <td>28</td>\n",
       "      <td>0.000</td>\n",
       "    </tr>\n",
       "    <tr>\n",
       "      <th>...</th>\n",
       "      <td>...</td>\n",
       "      <td>...</td>\n",
       "      <td>...</td>\n",
       "      <td>...</td>\n",
       "      <td>...</td>\n",
       "      <td>...</td>\n",
       "      <td>...</td>\n",
       "      <td>...</td>\n",
       "      <td>...</td>\n",
       "      <td>...</td>\n",
       "      <td>...</td>\n",
       "      <td>...</td>\n",
       "      <td>...</td>\n",
       "      <td>...</td>\n",
       "      <td>...</td>\n",
       "      <td>...</td>\n",
       "      <td>...</td>\n",
       "      <td>...</td>\n",
       "      <td>...</td>\n",
       "    </tr>\n",
       "    <tr>\n",
       "      <th>10122</th>\n",
       "      <td>772366833</td>\n",
       "      <td>Existing Customer</td>\n",
       "      <td>50</td>\n",
       "      <td>M</td>\n",
       "      <td>2</td>\n",
       "      <td>Graduate</td>\n",
       "      <td>Single</td>\n",
       "      <td>$40K - $60K</td>\n",
       "      <td>Blue</td>\n",
       "      <td>40</td>\n",
       "      <td>3</td>\n",
       "      <td>2</td>\n",
       "      <td>3</td>\n",
       "      <td>4003.0</td>\n",
       "      <td>1851</td>\n",
       "      <td>2152.0</td>\n",
       "      <td>15476</td>\n",
       "      <td>117</td>\n",
       "      <td>0.462</td>\n",
       "    </tr>\n",
       "    <tr>\n",
       "      <th>10123</th>\n",
       "      <td>710638233</td>\n",
       "      <td>Attrited Customer</td>\n",
       "      <td>41</td>\n",
       "      <td>M</td>\n",
       "      <td>2</td>\n",
       "      <td>Unknown</td>\n",
       "      <td>Divorced</td>\n",
       "      <td>$40K - $60K</td>\n",
       "      <td>Blue</td>\n",
       "      <td>25</td>\n",
       "      <td>4</td>\n",
       "      <td>2</td>\n",
       "      <td>3</td>\n",
       "      <td>4277.0</td>\n",
       "      <td>2186</td>\n",
       "      <td>2091.0</td>\n",
       "      <td>8764</td>\n",
       "      <td>69</td>\n",
       "      <td>0.511</td>\n",
       "    </tr>\n",
       "    <tr>\n",
       "      <th>10124</th>\n",
       "      <td>716506083</td>\n",
       "      <td>Attrited Customer</td>\n",
       "      <td>44</td>\n",
       "      <td>F</td>\n",
       "      <td>1</td>\n",
       "      <td>High School</td>\n",
       "      <td>Married</td>\n",
       "      <td>Less than $40K</td>\n",
       "      <td>Blue</td>\n",
       "      <td>36</td>\n",
       "      <td>5</td>\n",
       "      <td>3</td>\n",
       "      <td>4</td>\n",
       "      <td>5409.0</td>\n",
       "      <td>0</td>\n",
       "      <td>5409.0</td>\n",
       "      <td>10291</td>\n",
       "      <td>60</td>\n",
       "      <td>0.000</td>\n",
       "    </tr>\n",
       "    <tr>\n",
       "      <th>10125</th>\n",
       "      <td>717406983</td>\n",
       "      <td>Attrited Customer</td>\n",
       "      <td>30</td>\n",
       "      <td>M</td>\n",
       "      <td>2</td>\n",
       "      <td>Graduate</td>\n",
       "      <td>Unknown</td>\n",
       "      <td>$40K - $60K</td>\n",
       "      <td>Blue</td>\n",
       "      <td>36</td>\n",
       "      <td>4</td>\n",
       "      <td>3</td>\n",
       "      <td>3</td>\n",
       "      <td>5281.0</td>\n",
       "      <td>0</td>\n",
       "      <td>5281.0</td>\n",
       "      <td>8395</td>\n",
       "      <td>62</td>\n",
       "      <td>0.000</td>\n",
       "    </tr>\n",
       "    <tr>\n",
       "      <th>10126</th>\n",
       "      <td>714337233</td>\n",
       "      <td>Attrited Customer</td>\n",
       "      <td>43</td>\n",
       "      <td>F</td>\n",
       "      <td>2</td>\n",
       "      <td>Graduate</td>\n",
       "      <td>Married</td>\n",
       "      <td>Less than $40K</td>\n",
       "      <td>Silver</td>\n",
       "      <td>25</td>\n",
       "      <td>6</td>\n",
       "      <td>2</td>\n",
       "      <td>4</td>\n",
       "      <td>10388.0</td>\n",
       "      <td>1961</td>\n",
       "      <td>8427.0</td>\n",
       "      <td>10294</td>\n",
       "      <td>61</td>\n",
       "      <td>0.189</td>\n",
       "    </tr>\n",
       "  </tbody>\n",
       "</table>\n",
       "<p>10127 rows × 19 columns</p>\n",
       "</div>"
      ],
      "text/plain": [
       "       CLIENTNUM     Attrition_Flag  Customer_Age Gender  Dependent_count  \\\n",
       "0      768805383  Existing Customer            45      M                3   \n",
       "1      818770008  Existing Customer            49      F                5   \n",
       "2      713982108  Existing Customer            51      M                3   \n",
       "3      769911858  Existing Customer            40      F                4   \n",
       "4      709106358  Existing Customer            40      M                3   \n",
       "...          ...                ...           ...    ...              ...   \n",
       "10122  772366833  Existing Customer            50      M                2   \n",
       "10123  710638233  Attrited Customer            41      M                2   \n",
       "10124  716506083  Attrited Customer            44      F                1   \n",
       "10125  717406983  Attrited Customer            30      M                2   \n",
       "10126  714337233  Attrited Customer            43      F                2   \n",
       "\n",
       "      Education_Level Marital_Status Income_Category Card_Category  \\\n",
       "0         High School        Married     $60K - $80K          Blue   \n",
       "1            Graduate         Single  Less than $40K          Blue   \n",
       "2            Graduate        Married    $80K - $120K          Blue   \n",
       "3         High School        Unknown  Less than $40K          Blue   \n",
       "4          Uneducated        Married     $60K - $80K          Blue   \n",
       "...               ...            ...             ...           ...   \n",
       "10122        Graduate         Single     $40K - $60K          Blue   \n",
       "10123         Unknown       Divorced     $40K - $60K          Blue   \n",
       "10124     High School        Married  Less than $40K          Blue   \n",
       "10125        Graduate        Unknown     $40K - $60K          Blue   \n",
       "10126        Graduate        Married  Less than $40K        Silver   \n",
       "\n",
       "       Months_on_book  Total_Relationship_Count  Months_Inactive_12_mon  \\\n",
       "0                  39                         5                       1   \n",
       "1                  44                         6                       1   \n",
       "2                  36                         4                       1   \n",
       "3                  34                         3                       4   \n",
       "4                  21                         5                       1   \n",
       "...               ...                       ...                     ...   \n",
       "10122              40                         3                       2   \n",
       "10123              25                         4                       2   \n",
       "10124              36                         5                       3   \n",
       "10125              36                         4                       3   \n",
       "10126              25                         6                       2   \n",
       "\n",
       "       Contacts_Count_12_mon  Credit_Limit  Total_Revolving_Bal  \\\n",
       "0                          3       12691.0                  777   \n",
       "1                          2        8256.0                  864   \n",
       "2                          0        3418.0                    0   \n",
       "3                          1        3313.0                 2517   \n",
       "4                          0        4716.0                    0   \n",
       "...                      ...           ...                  ...   \n",
       "10122                      3        4003.0                 1851   \n",
       "10123                      3        4277.0                 2186   \n",
       "10124                      4        5409.0                    0   \n",
       "10125                      3        5281.0                    0   \n",
       "10126                      4       10388.0                 1961   \n",
       "\n",
       "       Avg_Open_To_Buy  Total_Trans_Amt  Total_Trans_Ct  Avg_Utilization_Ratio  \n",
       "0              11914.0             1144              42                  0.061  \n",
       "1               7392.0             1291              33                  0.105  \n",
       "2               3418.0             1887              20                  0.000  \n",
       "3                796.0             1171              20                  0.760  \n",
       "4               4716.0              816              28                  0.000  \n",
       "...                ...              ...             ...                    ...  \n",
       "10122           2152.0            15476             117                  0.462  \n",
       "10123           2091.0             8764              69                  0.511  \n",
       "10124           5409.0            10291              60                  0.000  \n",
       "10125           5281.0             8395              62                  0.000  \n",
       "10126           8427.0            10294              61                  0.189  \n",
       "\n",
       "[10127 rows x 19 columns]"
      ]
     },
     "execution_count": 2,
     "metadata": {},
     "output_type": "execute_result"
    }
   ],
   "source": [
    "df=pd.read_csv('DS1_C6_S1_BankChurn_Data_Concept.csv')\n",
    "df"
   ]
  },
  {
   "cell_type": "code",
   "execution_count": 3,
   "id": "e721e5a7",
   "metadata": {},
   "outputs": [
    {
     "data": {
      "text/plain": [
       "(10127, 19)"
      ]
     },
     "execution_count": 3,
     "metadata": {},
     "output_type": "execute_result"
    }
   ],
   "source": [
    "df.shape"
   ]
  },
  {
   "cell_type": "code",
   "execution_count": 4,
   "id": "74c51957",
   "metadata": {},
   "outputs": [
    {
     "data": {
      "text/plain": [
       "Index(['CLIENTNUM', 'Attrition_Flag', 'Customer_Age', 'Gender',\n",
       "       'Dependent_count', 'Education_Level', 'Marital_Status',\n",
       "       'Income_Category', 'Card_Category', 'Months_on_book',\n",
       "       'Total_Relationship_Count', 'Months_Inactive_12_mon',\n",
       "       'Contacts_Count_12_mon', 'Credit_Limit', 'Total_Revolving_Bal',\n",
       "       'Avg_Open_To_Buy', 'Total_Trans_Amt', 'Total_Trans_Ct',\n",
       "       'Avg_Utilization_Ratio'],\n",
       "      dtype='object')"
      ]
     },
     "execution_count": 4,
     "metadata": {},
     "output_type": "execute_result"
    }
   ],
   "source": [
    "df.columns"
   ]
  },
  {
   "cell_type": "code",
   "execution_count": 5,
   "id": "ebdad549",
   "metadata": {},
   "outputs": [
    {
     "name": "stdout",
     "output_type": "stream",
     "text": [
      "<class 'pandas.core.frame.DataFrame'>\n",
      "RangeIndex: 10127 entries, 0 to 10126\n",
      "Data columns (total 19 columns):\n",
      " #   Column                    Non-Null Count  Dtype  \n",
      "---  ------                    --------------  -----  \n",
      " 0   CLIENTNUM                 10127 non-null  int64  \n",
      " 1   Attrition_Flag            10127 non-null  object \n",
      " 2   Customer_Age              10127 non-null  int64  \n",
      " 3   Gender                    10034 non-null  object \n",
      " 4   Dependent_count           10127 non-null  int64  \n",
      " 5   Education_Level           10127 non-null  object \n",
      " 6   Marital_Status            10127 non-null  object \n",
      " 7   Income_Category           10127 non-null  object \n",
      " 8   Card_Category             9995 non-null   object \n",
      " 9   Months_on_book            10127 non-null  int64  \n",
      " 10  Total_Relationship_Count  10127 non-null  int64  \n",
      " 11  Months_Inactive_12_mon    10127 non-null  int64  \n",
      " 12  Contacts_Count_12_mon     10127 non-null  int64  \n",
      " 13  Credit_Limit              10067 non-null  float64\n",
      " 14  Total_Revolving_Bal       10127 non-null  int64  \n",
      " 15  Avg_Open_To_Buy           10127 non-null  float64\n",
      " 16  Total_Trans_Amt           10127 non-null  int64  \n",
      " 17  Total_Trans_Ct            10127 non-null  int64  \n",
      " 18  Avg_Utilization_Ratio     10127 non-null  float64\n",
      "dtypes: float64(3), int64(10), object(6)\n",
      "memory usage: 1.5+ MB\n"
     ]
    }
   ],
   "source": [
    "df.info()"
   ]
  },
  {
   "cell_type": "code",
   "execution_count": 6,
   "id": "e71ef49f",
   "metadata": {},
   "outputs": [
    {
     "data": {
      "text/plain": [
       "CLIENTNUM                     0\n",
       "Attrition_Flag                0\n",
       "Customer_Age                  0\n",
       "Gender                       93\n",
       "Dependent_count               0\n",
       "Education_Level               0\n",
       "Marital_Status                0\n",
       "Income_Category               0\n",
       "Card_Category               132\n",
       "Months_on_book                0\n",
       "Total_Relationship_Count      0\n",
       "Months_Inactive_12_mon        0\n",
       "Contacts_Count_12_mon         0\n",
       "Credit_Limit                 60\n",
       "Total_Revolving_Bal           0\n",
       "Avg_Open_To_Buy               0\n",
       "Total_Trans_Amt               0\n",
       "Total_Trans_Ct                0\n",
       "Avg_Utilization_Ratio         0\n",
       "dtype: int64"
      ]
     },
     "execution_count": 6,
     "metadata": {},
     "output_type": "execute_result"
    }
   ],
   "source": [
    "df.isnull().sum()"
   ]
  },
  {
   "cell_type": "code",
   "execution_count": 7,
   "id": "a7c47222",
   "metadata": {},
   "outputs": [
    {
     "data": {
      "text/plain": [
       "CLIENTNUM                   0.000000\n",
       "Attrition_Flag              0.000000\n",
       "Customer_Age                0.000000\n",
       "Gender                      0.918337\n",
       "Dependent_count             0.000000\n",
       "Education_Level             0.000000\n",
       "Marital_Status              0.000000\n",
       "Income_Category             0.000000\n",
       "Card_Category               1.303446\n",
       "Months_on_book              0.000000\n",
       "Total_Relationship_Count    0.000000\n",
       "Months_Inactive_12_mon      0.000000\n",
       "Contacts_Count_12_mon       0.000000\n",
       "Credit_Limit                0.592476\n",
       "Total_Revolving_Bal         0.000000\n",
       "Avg_Open_To_Buy             0.000000\n",
       "Total_Trans_Amt             0.000000\n",
       "Total_Trans_Ct              0.000000\n",
       "Avg_Utilization_Ratio       0.000000\n",
       "dtype: float64"
      ]
     },
     "execution_count": 7,
     "metadata": {},
     "output_type": "execute_result"
    }
   ],
   "source": [
    "100*(df.isnull().sum()/df.shape[0])"
   ]
  },
  {
   "cell_type": "code",
   "execution_count": 8,
   "id": "86dd8942",
   "metadata": {},
   "outputs": [],
   "source": [
    "def info_of_cat(col): \n",
    "    print(f\"Unique values in {col} are: {df[col].unique()}\") # unique: returns the unique values in the col\n",
    "    print(f\"Mode of {col} is {df[col].mode()[0]}\")  # mode: returns the mode of the column\n",
    "    print(f\"Number of missing values in {col} is {df[col].isnull().sum()}\") # isnull().sum() counts the number of null in dataframe\n",
    "   "
   ]
  },
  {
   "cell_type": "code",
   "execution_count": 9,
   "id": "3a2e90de",
   "metadata": {},
   "outputs": [],
   "source": [
    "def info_of_numerical(col):\n",
    "    print(f\"The mean of the {col} is {df[col].mean()}\")\n",
    "    print(f\"The median of the {col} is {df[col].median()}\")\n",
    "    print(f\"The mode of the {col} is {df[col].mode()[0]}\")\n",
    "    print(f\"The standard deviation of the {col} is {df[col].std()}\")\n",
    "    print(f\"Number of missing values in the {col} is {df[col].isnull().sum()}\")"
   ]
  },
  {
   "cell_type": "code",
   "execution_count": 29,
   "id": "7b55f8d3",
   "metadata": {},
   "outputs": [
    {
     "data": {
      "text/html": [
       "<div>\n",
       "<style scoped>\n",
       "    .dataframe tbody tr th:only-of-type {\n",
       "        vertical-align: middle;\n",
       "    }\n",
       "\n",
       "    .dataframe tbody tr th {\n",
       "        vertical-align: top;\n",
       "    }\n",
       "\n",
       "    .dataframe thead th {\n",
       "        text-align: right;\n",
       "    }\n",
       "</style>\n",
       "<table border=\"1\" class=\"dataframe\">\n",
       "  <thead>\n",
       "    <tr style=\"text-align: right;\">\n",
       "      <th></th>\n",
       "      <th>CLIENTNUM</th>\n",
       "      <th>Attrition_Flag</th>\n",
       "      <th>Customer_Age</th>\n",
       "      <th>Gender</th>\n",
       "      <th>Dependent_count</th>\n",
       "      <th>Education_Level</th>\n",
       "      <th>Marital_Status</th>\n",
       "      <th>Income_Category</th>\n",
       "      <th>Card_Category</th>\n",
       "      <th>Months_on_book</th>\n",
       "      <th>Total_Relationship_Count</th>\n",
       "      <th>Months_Inactive_12_mon</th>\n",
       "      <th>Contacts_Count_12_mon</th>\n",
       "      <th>Credit_Limit</th>\n",
       "      <th>Total_Revolving_Bal</th>\n",
       "      <th>Avg_Open_To_Buy</th>\n",
       "      <th>Total_Trans_Amt</th>\n",
       "      <th>Total_Trans_Ct</th>\n",
       "      <th>Avg_Utilization_Ratio</th>\n",
       "    </tr>\n",
       "  </thead>\n",
       "  <tbody>\n",
       "    <tr>\n",
       "      <th>0</th>\n",
       "      <td>768805383</td>\n",
       "      <td>Existing Customer</td>\n",
       "      <td>45</td>\n",
       "      <td>M</td>\n",
       "      <td>3</td>\n",
       "      <td>High School</td>\n",
       "      <td>Married</td>\n",
       "      <td>$60K - $80K</td>\n",
       "      <td>Blue</td>\n",
       "      <td>39</td>\n",
       "      <td>5</td>\n",
       "      <td>1</td>\n",
       "      <td>3</td>\n",
       "      <td>12691.0</td>\n",
       "      <td>777</td>\n",
       "      <td>11914.0</td>\n",
       "      <td>1144</td>\n",
       "      <td>42</td>\n",
       "      <td>0.061</td>\n",
       "    </tr>\n",
       "    <tr>\n",
       "      <th>1</th>\n",
       "      <td>818770008</td>\n",
       "      <td>Existing Customer</td>\n",
       "      <td>49</td>\n",
       "      <td>F</td>\n",
       "      <td>5</td>\n",
       "      <td>Graduate</td>\n",
       "      <td>Single</td>\n",
       "      <td>Less than $40K</td>\n",
       "      <td>Blue</td>\n",
       "      <td>44</td>\n",
       "      <td>6</td>\n",
       "      <td>1</td>\n",
       "      <td>2</td>\n",
       "      <td>8256.0</td>\n",
       "      <td>864</td>\n",
       "      <td>7392.0</td>\n",
       "      <td>1291</td>\n",
       "      <td>33</td>\n",
       "      <td>0.105</td>\n",
       "    </tr>\n",
       "    <tr>\n",
       "      <th>2</th>\n",
       "      <td>713982108</td>\n",
       "      <td>Existing Customer</td>\n",
       "      <td>51</td>\n",
       "      <td>M</td>\n",
       "      <td>3</td>\n",
       "      <td>Graduate</td>\n",
       "      <td>Married</td>\n",
       "      <td>$80K - $120K</td>\n",
       "      <td>Blue</td>\n",
       "      <td>36</td>\n",
       "      <td>4</td>\n",
       "      <td>1</td>\n",
       "      <td>0</td>\n",
       "      <td>3418.0</td>\n",
       "      <td>0</td>\n",
       "      <td>3418.0</td>\n",
       "      <td>1887</td>\n",
       "      <td>20</td>\n",
       "      <td>0.000</td>\n",
       "    </tr>\n",
       "    <tr>\n",
       "      <th>3</th>\n",
       "      <td>769911858</td>\n",
       "      <td>Existing Customer</td>\n",
       "      <td>40</td>\n",
       "      <td>F</td>\n",
       "      <td>4</td>\n",
       "      <td>High School</td>\n",
       "      <td>Unknown</td>\n",
       "      <td>Less than $40K</td>\n",
       "      <td>Blue</td>\n",
       "      <td>34</td>\n",
       "      <td>3</td>\n",
       "      <td>4</td>\n",
       "      <td>1</td>\n",
       "      <td>3313.0</td>\n",
       "      <td>2517</td>\n",
       "      <td>796.0</td>\n",
       "      <td>1171</td>\n",
       "      <td>20</td>\n",
       "      <td>0.760</td>\n",
       "    </tr>\n",
       "    <tr>\n",
       "      <th>4</th>\n",
       "      <td>709106358</td>\n",
       "      <td>Existing Customer</td>\n",
       "      <td>40</td>\n",
       "      <td>M</td>\n",
       "      <td>3</td>\n",
       "      <td>Uneducated</td>\n",
       "      <td>Married</td>\n",
       "      <td>$60K - $80K</td>\n",
       "      <td>Blue</td>\n",
       "      <td>21</td>\n",
       "      <td>5</td>\n",
       "      <td>1</td>\n",
       "      <td>0</td>\n",
       "      <td>4716.0</td>\n",
       "      <td>0</td>\n",
       "      <td>4716.0</td>\n",
       "      <td>816</td>\n",
       "      <td>28</td>\n",
       "      <td>0.000</td>\n",
       "    </tr>\n",
       "  </tbody>\n",
       "</table>\n",
       "</div>"
      ],
      "text/plain": [
       "   CLIENTNUM     Attrition_Flag  Customer_Age Gender  Dependent_count  \\\n",
       "0  768805383  Existing Customer            45      M                3   \n",
       "1  818770008  Existing Customer            49      F                5   \n",
       "2  713982108  Existing Customer            51      M                3   \n",
       "3  769911858  Existing Customer            40      F                4   \n",
       "4  709106358  Existing Customer            40      M                3   \n",
       "\n",
       "  Education_Level Marital_Status Income_Category Card_Category  \\\n",
       "0     High School        Married     $60K - $80K          Blue   \n",
       "1        Graduate         Single  Less than $40K          Blue   \n",
       "2        Graduate        Married    $80K - $120K          Blue   \n",
       "3     High School        Unknown  Less than $40K          Blue   \n",
       "4      Uneducated        Married     $60K - $80K          Blue   \n",
       "\n",
       "   Months_on_book  Total_Relationship_Count  Months_Inactive_12_mon  \\\n",
       "0              39                         5                       1   \n",
       "1              44                         6                       1   \n",
       "2              36                         4                       1   \n",
       "3              34                         3                       4   \n",
       "4              21                         5                       1   \n",
       "\n",
       "   Contacts_Count_12_mon  Credit_Limit  Total_Revolving_Bal  Avg_Open_To_Buy  \\\n",
       "0                      3       12691.0                  777          11914.0   \n",
       "1                      2        8256.0                  864           7392.0   \n",
       "2                      0        3418.0                    0           3418.0   \n",
       "3                      1        3313.0                 2517            796.0   \n",
       "4                      0        4716.0                    0           4716.0   \n",
       "\n",
       "   Total_Trans_Amt  Total_Trans_Ct  Avg_Utilization_Ratio  \n",
       "0             1144              42                  0.061  \n",
       "1             1291              33                  0.105  \n",
       "2             1887              20                  0.000  \n",
       "3             1171              20                  0.760  \n",
       "4              816              28                  0.000  "
      ]
     },
     "execution_count": 29,
     "metadata": {},
     "output_type": "execute_result"
    }
   ],
   "source": [
    "df.head()"
   ]
  },
  {
   "cell_type": "code",
   "execution_count": 5,
   "id": "182f254b",
   "metadata": {},
   "outputs": [
    {
     "data": {
      "text/html": [
       "<div>\n",
       "<style scoped>\n",
       "    .dataframe tbody tr th:only-of-type {\n",
       "        vertical-align: middle;\n",
       "    }\n",
       "\n",
       "    .dataframe tbody tr th {\n",
       "        vertical-align: top;\n",
       "    }\n",
       "\n",
       "    .dataframe thead th {\n",
       "        text-align: right;\n",
       "    }\n",
       "</style>\n",
       "<table border=\"1\" class=\"dataframe\">\n",
       "  <thead>\n",
       "    <tr style=\"text-align: right;\">\n",
       "      <th></th>\n",
       "      <th>CLIENTNUM</th>\n",
       "      <th>Attrition_Flag</th>\n",
       "      <th>Customer_Age</th>\n",
       "      <th>Gender</th>\n",
       "      <th>Dependent_count</th>\n",
       "      <th>Education_Level</th>\n",
       "      <th>Marital_Status</th>\n",
       "      <th>Income_Category</th>\n",
       "      <th>Card_Category</th>\n",
       "      <th>Months_on_book</th>\n",
       "      <th>Total_Relationship_Count</th>\n",
       "      <th>Months_Inactive_12_mon</th>\n",
       "      <th>Contacts_Count_12_mon</th>\n",
       "      <th>Credit_Limit</th>\n",
       "      <th>Total_Revolving_Bal</th>\n",
       "      <th>Avg_Open_To_Buy</th>\n",
       "      <th>Total_Trans_Amt</th>\n",
       "      <th>Total_Trans_Ct</th>\n",
       "      <th>Avg_Utilization_Ratio</th>\n",
       "    </tr>\n",
       "  </thead>\n",
       "  <tbody>\n",
       "    <tr>\n",
       "      <th>10122</th>\n",
       "      <td>772366833</td>\n",
       "      <td>Existing Customer</td>\n",
       "      <td>50</td>\n",
       "      <td>M</td>\n",
       "      <td>2</td>\n",
       "      <td>Graduate</td>\n",
       "      <td>Single</td>\n",
       "      <td>$40K - $60K</td>\n",
       "      <td>Blue</td>\n",
       "      <td>40</td>\n",
       "      <td>3</td>\n",
       "      <td>2</td>\n",
       "      <td>3</td>\n",
       "      <td>4003.0</td>\n",
       "      <td>1851</td>\n",
       "      <td>2152.0</td>\n",
       "      <td>15476</td>\n",
       "      <td>117</td>\n",
       "      <td>0.462</td>\n",
       "    </tr>\n",
       "    <tr>\n",
       "      <th>10123</th>\n",
       "      <td>710638233</td>\n",
       "      <td>Attrited Customer</td>\n",
       "      <td>41</td>\n",
       "      <td>M</td>\n",
       "      <td>2</td>\n",
       "      <td>Unknown</td>\n",
       "      <td>Divorced</td>\n",
       "      <td>$40K - $60K</td>\n",
       "      <td>Blue</td>\n",
       "      <td>25</td>\n",
       "      <td>4</td>\n",
       "      <td>2</td>\n",
       "      <td>3</td>\n",
       "      <td>4277.0</td>\n",
       "      <td>2186</td>\n",
       "      <td>2091.0</td>\n",
       "      <td>8764</td>\n",
       "      <td>69</td>\n",
       "      <td>0.511</td>\n",
       "    </tr>\n",
       "    <tr>\n",
       "      <th>10124</th>\n",
       "      <td>716506083</td>\n",
       "      <td>Attrited Customer</td>\n",
       "      <td>44</td>\n",
       "      <td>F</td>\n",
       "      <td>1</td>\n",
       "      <td>High School</td>\n",
       "      <td>Married</td>\n",
       "      <td>Less than $40K</td>\n",
       "      <td>Blue</td>\n",
       "      <td>36</td>\n",
       "      <td>5</td>\n",
       "      <td>3</td>\n",
       "      <td>4</td>\n",
       "      <td>5409.0</td>\n",
       "      <td>0</td>\n",
       "      <td>5409.0</td>\n",
       "      <td>10291</td>\n",
       "      <td>60</td>\n",
       "      <td>0.000</td>\n",
       "    </tr>\n",
       "    <tr>\n",
       "      <th>10125</th>\n",
       "      <td>717406983</td>\n",
       "      <td>Attrited Customer</td>\n",
       "      <td>30</td>\n",
       "      <td>M</td>\n",
       "      <td>2</td>\n",
       "      <td>Graduate</td>\n",
       "      <td>Unknown</td>\n",
       "      <td>$40K - $60K</td>\n",
       "      <td>Blue</td>\n",
       "      <td>36</td>\n",
       "      <td>4</td>\n",
       "      <td>3</td>\n",
       "      <td>3</td>\n",
       "      <td>5281.0</td>\n",
       "      <td>0</td>\n",
       "      <td>5281.0</td>\n",
       "      <td>8395</td>\n",
       "      <td>62</td>\n",
       "      <td>0.000</td>\n",
       "    </tr>\n",
       "    <tr>\n",
       "      <th>10126</th>\n",
       "      <td>714337233</td>\n",
       "      <td>Attrited Customer</td>\n",
       "      <td>43</td>\n",
       "      <td>F</td>\n",
       "      <td>2</td>\n",
       "      <td>Graduate</td>\n",
       "      <td>Married</td>\n",
       "      <td>Less than $40K</td>\n",
       "      <td>Silver</td>\n",
       "      <td>25</td>\n",
       "      <td>6</td>\n",
       "      <td>2</td>\n",
       "      <td>4</td>\n",
       "      <td>10388.0</td>\n",
       "      <td>1961</td>\n",
       "      <td>8427.0</td>\n",
       "      <td>10294</td>\n",
       "      <td>61</td>\n",
       "      <td>0.189</td>\n",
       "    </tr>\n",
       "  </tbody>\n",
       "</table>\n",
       "</div>"
      ],
      "text/plain": [
       "       CLIENTNUM     Attrition_Flag  Customer_Age Gender  Dependent_count  \\\n",
       "10122  772366833  Existing Customer            50      M                2   \n",
       "10123  710638233  Attrited Customer            41      M                2   \n",
       "10124  716506083  Attrited Customer            44      F                1   \n",
       "10125  717406983  Attrited Customer            30      M                2   \n",
       "10126  714337233  Attrited Customer            43      F                2   \n",
       "\n",
       "      Education_Level Marital_Status Income_Category Card_Category  \\\n",
       "10122        Graduate         Single     $40K - $60K          Blue   \n",
       "10123         Unknown       Divorced     $40K - $60K          Blue   \n",
       "10124     High School        Married  Less than $40K          Blue   \n",
       "10125        Graduate        Unknown     $40K - $60K          Blue   \n",
       "10126        Graduate        Married  Less than $40K        Silver   \n",
       "\n",
       "       Months_on_book  Total_Relationship_Count  Months_Inactive_12_mon  \\\n",
       "10122              40                         3                       2   \n",
       "10123              25                         4                       2   \n",
       "10124              36                         5                       3   \n",
       "10125              36                         4                       3   \n",
       "10126              25                         6                       2   \n",
       "\n",
       "       Contacts_Count_12_mon  Credit_Limit  Total_Revolving_Bal  \\\n",
       "10122                      3        4003.0                 1851   \n",
       "10123                      3        4277.0                 2186   \n",
       "10124                      4        5409.0                    0   \n",
       "10125                      3        5281.0                    0   \n",
       "10126                      4       10388.0                 1961   \n",
       "\n",
       "       Avg_Open_To_Buy  Total_Trans_Amt  Total_Trans_Ct  Avg_Utilization_Ratio  \n",
       "10122           2152.0            15476             117                  0.462  \n",
       "10123           2091.0             8764              69                  0.511  \n",
       "10124           5409.0            10291              60                  0.000  \n",
       "10125           5281.0             8395              62                  0.000  \n",
       "10126           8427.0            10294              61                  0.189  "
      ]
     },
     "execution_count": 5,
     "metadata": {},
     "output_type": "execute_result"
    }
   ],
   "source": [
    "df.tail()"
   ]
  },
  {
   "cell_type": "markdown",
   "id": "728d2d43",
   "metadata": {},
   "source": [
    "# Q1 (Genderwise count of customers who are with the bank and those who have left.)"
   ]
  },
  {
   "cell_type": "code",
   "execution_count": 102,
   "id": "c45152dd",
   "metadata": {},
   "outputs": [
    {
     "name": "stdout",
     "output_type": "stream",
     "text": [
      "Unique values in Attrition_Flag are: ['Existing Customer' 'Attrited Customer']\n",
      "Mode of Attrition_Flag is Existing Customer\n",
      "Number of missing values in Attrition_Flag is 0\n"
     ]
    }
   ],
   "source": [
    "info_of_cat(\"Attrition_Flag\")"
   ]
  },
  {
   "cell_type": "code",
   "execution_count": 103,
   "id": "89c99696",
   "metadata": {},
   "outputs": [
    {
     "name": "stdout",
     "output_type": "stream",
     "text": [
      "Unique values in Gender are: ['M' 'F']\n",
      "Mode of Gender is F\n",
      "Number of missing values in Gender is 0\n"
     ]
    }
   ],
   "source": [
    "info_of_cat('Gender')"
   ]
  },
  {
   "cell_type": "code",
   "execution_count": 104,
   "id": "8b3a3d27",
   "metadata": {},
   "outputs": [
    {
     "name": "stdout",
     "output_type": "stream",
     "text": [
      "F\n"
     ]
    }
   ],
   "source": [
    "Gender_mode=df.Gender.mode()[0]\n",
    "print(Gender_mode)\n",
    "df['Gender'].fillna(Gender_mode, inplace=True)"
   ]
  },
  {
   "cell_type": "code",
   "execution_count": 99,
   "id": "e49d7f22",
   "metadata": {},
   "outputs": [
    {
     "data": {
      "image/png": "[encoded data removed]",
      "text/plain": [
       "<Figure size 1000x400 with 1 Axes>"
      ]
     },
     "metadata": {},
     "output_type": "display_data"
    }
   ],
   "source": [
    "plt.figure(figsize=(10,4))\n",
    "sb.countplot(data=df,x='Gender',hue='Attrition_Flag');"
   ]
  },
  {
   "cell_type": "markdown",
   "id": "89e90345",
   "metadata": {},
   "source": [
    "#conclusion:- more no.of females customers had left the bank and with bank."
   ]
  },
  {
   "cell_type": "markdown",
   "id": "57c00eda",
   "metadata": {},
   "source": [
    "# Q2 (2. Is there a connection between the education level and the customers who have left the bank?)"
   ]
  },
  {
   "cell_type": "code",
   "execution_count": 52,
   "id": "eb2d3738",
   "metadata": {},
   "outputs": [
    {
     "name": "stdout",
     "output_type": "stream",
     "text": [
      "Unique values in Education_Level are: ['High School' 'Graduate' 'Uneducated' 'Unknown' 'College' 'Post-Graduate'\n",
      " 'Doctorate']\n",
      "Mode of Education_Level is Graduate\n",
      "Number of missing values in Education_Level is 0\n"
     ]
    }
   ],
   "source": [
    "info_of_cat('Education_Level')"
   ]
  },
  {
   "cell_type": "code",
   "execution_count": 116,
   "id": "147d43e5",
   "metadata": {},
   "outputs": [
    {
     "data": {
      "image/png": "[encoded data removed]",
      "text/plain": [
       "<Figure size 1200x700 with 1 Axes>"
      ]
     },
     "metadata": {},
     "output_type": "display_data"
    }
   ],
   "source": [
    "plt.figure(figsize=(12,7))\n",
    "sb.countplot(data=df,x='Education_Level',hue='Attrition_Flag');"
   ]
  },
  {
   "cell_type": "markdown",
   "id": "9cef6573",
   "metadata": {},
   "source": [
    "#conclusion:- more no.of Graduate customers have left the bank."
   ]
  },
  {
   "cell_type": "markdown",
   "id": "4d60d8c5",
   "metadata": {},
   "source": [
    "# Q3 (3. Marital Status analysis of those customers who have left the bank)"
   ]
  },
  {
   "cell_type": "code",
   "execution_count": 53,
   "id": "1fe2fa1d",
   "metadata": {},
   "outputs": [
    {
     "name": "stdout",
     "output_type": "stream",
     "text": [
      "Unique values in Marital_Status are: ['Married' 'Single' 'Unknown' 'Divorced']\n",
      "Mode of Marital_Status is Married\n",
      "Number of missing values in Marital_Status is 0\n"
     ]
    }
   ],
   "source": [
    "info_of_cat('Marital_Status')"
   ]
  },
  {
   "cell_type": "code",
   "execution_count": 30,
   "id": "f97f48fa",
   "metadata": {},
   "outputs": [
    {
     "data": {
      "image/png": "[encoded data removed]",
      "text/plain": [
       "<Figure size 1200x700 with 1 Axes>"
      ]
     },
     "metadata": {},
     "output_type": "display_data"
    }
   ],
   "source": [
    "plt.figure(figsize=(12,7))\n",
    "sb.countplot(data=df,x=df['Marital_Status'],hue=df['Attrition_Flag']);"
   ]
  },
  {
   "cell_type": "markdown",
   "id": "c9fc7c6e",
   "metadata": {},
   "source": [
    "#conclusion:- married people's are left the bank."
   ]
  },
  {
   "cell_type": "markdown",
   "id": "540fc336",
   "metadata": {},
   "source": [
    "# Q4 (4. Income category analysis of the customers who have left the bank)"
   ]
  },
  {
   "cell_type": "code",
   "execution_count": 54,
   "id": "079380ba",
   "metadata": {},
   "outputs": [
    {
     "name": "stdout",
     "output_type": "stream",
     "text": [
      "Unique values in Income_Category are: ['$60K - $80K' 'Less than $40K' '$80K - $120K' '$40K - $60K' '$120K +'\n",
      " 'Unknown']\n",
      "Mode of Income_Category is Less than $40K\n",
      "Number of missing values in Income_Category is 0\n"
     ]
    }
   ],
   "source": [
    "info_of_cat('Income_Category')"
   ]
  },
  {
   "cell_type": "code",
   "execution_count": 29,
   "id": "4f7f4839",
   "metadata": {},
   "outputs": [
    {
     "data": {
      "image/png": "[encoded data removed]",
      "text/plain": [
       "<Figure size 1200x700 with 1 Axes>"
      ]
     },
     "metadata": {},
     "output_type": "display_data"
    }
   ],
   "source": [
    "plt.figure(figsize=(12,7))\n",
    "sb.countplot(data=df,x=df['Income_Category'],hue=df['Attrition_Flag']);"
   ]
  },
  {
   "cell_type": "markdown",
   "id": "d54b55e7",
   "metadata": {},
   "source": [
    "#conclusion:- less than $40k customers have left the bank."
   ]
  },
  {
   "cell_type": "markdown",
   "id": "6c88f7b6",
   "metadata": {},
   "source": [
    "# Q5 (5. Card category analysis of the customers who have left the bank)"
   ]
  },
  {
   "cell_type": "code",
   "execution_count": 55,
   "id": "f8aa032b",
   "metadata": {},
   "outputs": [
    {
     "name": "stdout",
     "output_type": "stream",
     "text": [
      "Unique values in Card_Category are: ['Blue' 'Gold' 'Silver' nan 'Platinum']\n",
      "Mode of Card_Category is Blue\n",
      "Number of missing values in Card_Category is 132\n"
     ]
    }
   ],
   "source": [
    "info_of_cat('Card_Category')"
   ]
  },
  {
   "cell_type": "code",
   "execution_count": 62,
   "id": "2b3db1c3",
   "metadata": {},
   "outputs": [
    {
     "name": "stdout",
     "output_type": "stream",
     "text": [
      "Blue\n"
     ]
    }
   ],
   "source": [
    "Card_Category_mode=df.Card_Category.mode()[0]\n",
    "print(Card_Category_mode)\n",
    "df['Card_Category'].fillna(Card_Category_mode, inplace=True)"
   ]
  },
  {
   "cell_type": "code",
   "execution_count": 64,
   "id": "b0cc65cb",
   "metadata": {},
   "outputs": [
    {
     "data": {
      "image/png": "[encoded data removed]",
      "text/plain": [
       "<Figure size 1200x700 with 1 Axes>"
      ]
     },
     "metadata": {},
     "output_type": "display_data"
    }
   ],
   "source": [
    "plt.figure(figsize=(12,7))\n",
    "sb.countplot(data=df,x=df['Card_Category'],hue=df['Attrition_Flag']);"
   ]
  },
  {
   "cell_type": "markdown",
   "id": "54e0c03c",
   "metadata": {},
   "source": [
    "#conclusion:-Manjority of Blue customers have left the bank."
   ]
  },
  {
   "cell_type": "markdown",
   "id": "5eb4d347",
   "metadata": {},
   "source": [
    "# Q6 (6. Is there any relation between months inactive and churn?)"
   ]
  },
  {
   "cell_type": "code",
   "execution_count": 27,
   "id": "09843c24",
   "metadata": {},
   "outputs": [
    {
     "name": "stdout",
     "output_type": "stream",
     "text": [
      "The mean of the Months_Inactive_12_mon is 2.3411671768539546\n",
      "The median of the Months_Inactive_12_mon is 2.0\n",
      "The mode of the Months_Inactive_12_mon is 3\n",
      "The standard deviation of the Months_Inactive_12_mon is 1.0106223994182562\n",
      "Number of missing values in the Months_Inactive_12_mon is 0\n"
     ]
    }
   ],
   "source": [
    "info_of_numerical('Months_Inactive_12_mon')"
   ]
  },
  {
   "cell_type": "code",
   "execution_count": 118,
   "id": "0345fd97",
   "metadata": {},
   "outputs": [
    {
     "data": {
      "text/plain": [
       "<AxesSubplot:xlabel='Months_Inactive_12_mon', ylabel='count'>"
      ]
     },
     "execution_count": 118,
     "metadata": {},
     "output_type": "execute_result"
    },
    {
     "data": {
      "image/png": "[encoded data removed]",
      "text/plain": [
       "<Figure size 1000x400 with 1 Axes>"
      ]
     },
     "metadata": {},
     "output_type": "display_data"
    }
   ],
   "source": [
    "plt.figure(figsize=(10,4))\n",
    "sb.countplot(data=df,x=df['Months_Inactive_12_mon'])"
   ]
  },
  {
   "cell_type": "markdown",
   "id": "898982a5",
   "metadata": {},
   "source": [
    "#conclusion:-Majority of the customers are inactive for 3 months."
   ]
  },
  {
   "cell_type": "markdown",
   "id": "9ed5c12a",
   "metadata": {},
   "source": [
    "# Q7 (7. Is there any relation between churn and relationship count?)"
   ]
  },
  {
   "cell_type": "code",
   "execution_count": 23,
   "id": "84a5a9be",
   "metadata": {},
   "outputs": [
    {
     "name": "stdout",
     "output_type": "stream",
     "text": [
      "Unique values in Total_Relationship_Count are: [5 6 4 3 2 1]\n",
      "Mode of Total_Relationship_Count is 3\n",
      "Number of missing values in Total_Relationship_Count is 0\n"
     ]
    }
   ],
   "source": [
    "info_of_cat('Total_Relationship_Count')"
   ]
  },
  {
   "cell_type": "code",
   "execution_count": 120,
   "id": "c65955ab",
   "metadata": {},
   "outputs": [
    {
     "data": {
      "text/plain": [
       "<AxesSubplot:xlabel='Total_Relationship_Count', ylabel='count'>"
      ]
     },
     "execution_count": 120,
     "metadata": {},
     "output_type": "execute_result"
    },
    {
     "data": {
      "image/png": "[encoded data removed]",
      "text/plain": [
       "<Figure size 1000x400 with 1 Axes>"
      ]
     },
     "metadata": {},
     "output_type": "display_data"
    }
   ],
   "source": [
    "plt.figure(figsize=(10,4))\n",
    "sb.countplot(data=df,x=df['Total_Relationship_Count'])"
   ]
  },
  {
   "cell_type": "markdown",
   "id": "f9b6c3e6",
   "metadata": {},
   "source": [
    "#conclusion:- people have 3 years of relationship with the bank. 20% of the poepole's tend to leave in the first two years."
   ]
  },
  {
   "cell_type": "code",
   "execution_count": 36,
   "id": "e727d604",
   "metadata": {},
   "outputs": [
    {
     "data": {
      "text/plain": [
       "<AxesSubplot:xlabel='Total_Relationship_Count'>"
      ]
     },
     "execution_count": 36,
     "metadata": {},
     "output_type": "execute_result"
    },
    {
     "data": {
      "image/png": "[encoded data removed]",
      "text/plain": [
       "<Figure size 1000x400 with 2 Axes>"
      ]
     },
     "metadata": {},
     "output_type": "display_data"
    }
   ],
   "source": [
    "fig, ax=plt.subplots(1,2, figsize=(10,4))\n",
    "sb.histplot(df['Total_Relationship_Count'], ax=ax[1])\n",
    "sb.boxplot(x=df['Total_Relationship_Count'], ax=ax[0])"
   ]
  },
  {
   "cell_type": "markdown",
   "id": "0024c006",
   "metadata": {},
   "source": [
    "# Q8 (8. Is there any relation between churn and contacts count?)"
   ]
  },
  {
   "cell_type": "code",
   "execution_count": 39,
   "id": "e74020de",
   "metadata": {},
   "outputs": [
    {
     "name": "stdout",
     "output_type": "stream",
     "text": [
      "The mean of the Contacts_Count_12_mon is 2.4553174681544387\n",
      "The median of the Contacts_Count_12_mon is 2.0\n",
      "The mode of the Contacts_Count_12_mon is 3\n",
      "The standard deviation of the Contacts_Count_12_mon is 1.1062251426358938\n",
      "Number of missing values in the Contacts_Count_12_mon is 0\n"
     ]
    }
   ],
   "source": [
    "info_of_numerical('Contacts_Count_12_mon')"
   ]
  },
  {
   "cell_type": "code",
   "execution_count": 140,
   "id": "0246c53b",
   "metadata": {},
   "outputs": [
    {
     "data": {
      "text/plain": [
       "<AxesSubplot:xlabel='Contacts_Count_12_mon', ylabel='count'>"
      ]
     },
     "execution_count": 140,
     "metadata": {},
     "output_type": "execute_result"
    },
    {
     "data": {
      "image/png": "[encoded data removed]",
      "text/plain": [
       "<Figure size 1000x400 with 1 Axes>"
      ]
     },
     "metadata": {},
     "output_type": "display_data"
    }
   ],
   "source": [
    "plt.figure(figsize=(10,4))\n",
    "sb.countplot(data=df,x=df['Contacts_Count_12_mon'])\n",
    "\n"
   ]
  },
  {
   "cell_type": "markdown",
   "id": "9e782ded",
   "metadata": {},
   "source": [
    "#conclusion:- people have left the bank of 2nd month and 3rd month."
   ]
  },
  {
   "cell_type": "markdown",
   "id": "bdaf6231",
   "metadata": {},
   "source": [
    "# Q9 (9. Is there a relation between the attrition and the age of customers who have a lower utilization ratio?)"
   ]
  },
  {
   "cell_type": "code",
   "execution_count": 87,
   "id": "75135e4b",
   "metadata": {},
   "outputs": [
    {
     "name": "stdout",
     "output_type": "stream",
     "text": [
      "Unique values in Customer_Age are: [ 45  49  51  40  44  32  37  48  42  65  56  35  57  41  61  47  62  54\n",
      "  59  63  53  58  55  66  50  38  46  52 177  39 187  43  64  68 114  67\n",
      "  60 213  73  70  36  74  34 192 100 160  33  26 181 135  98  29  30  31\n",
      " 203  28  27 143 134 173 175 163 222  95  88 136 115 193  97 140 120 161\n",
      " 188  80  94 131 166 107 167 209 199  78 116 219 172 155 146 200 158 109\n",
      " 159 152 185 174 179 101 154 128  85 110 121 138  86 127 196 112 147 168\n",
      "  83  89 189 220 133 178 130 137 118 212 123 176  90 145]\n",
      "Mode of Customer_Age is 44\n",
      "Number of missing values in Customer_Age is 0\n"
     ]
    }
   ],
   "source": [
    "info_of_cat('Customer_Age')"
   ]
  },
  {
   "cell_type": "code",
   "execution_count": 88,
   "id": "3729dcb6",
   "metadata": {},
   "outputs": [],
   "source": [
    "mean=int(df.Customer_Age.mean())\n",
    "n=df[df['Customer_Age']>75].index\n",
    "for index in n:\n",
    "    df.loc[index, 'Customer_Age']=mean"
   ]
  },
  {
   "cell_type": "code",
   "execution_count": 89,
   "id": "30e2e06f",
   "metadata": {
    "collapsed": true
   },
   "outputs": [
    {
     "data": {
      "text/html": [
       "<div>\n",
       "<style scoped>\n",
       "    .dataframe tbody tr th:only-of-type {\n",
       "        vertical-align: middle;\n",
       "    }\n",
       "\n",
       "    .dataframe tbody tr th {\n",
       "        vertical-align: top;\n",
       "    }\n",
       "\n",
       "    .dataframe thead th {\n",
       "        text-align: right;\n",
       "    }\n",
       "</style>\n",
       "<table border=\"1\" class=\"dataframe\">\n",
       "  <thead>\n",
       "    <tr style=\"text-align: right;\">\n",
       "      <th></th>\n",
       "      <th>CLIENTNUM</th>\n",
       "      <th>Attrition_Flag</th>\n",
       "      <th>Customer_Age</th>\n",
       "      <th>Gender</th>\n",
       "      <th>Dependent_count</th>\n",
       "      <th>Education_Level</th>\n",
       "      <th>Marital_Status</th>\n",
       "      <th>Income_Category</th>\n",
       "      <th>Card_Category</th>\n",
       "      <th>Months_on_book</th>\n",
       "      <th>Total_Relationship_Count</th>\n",
       "      <th>Months_Inactive_12_mon</th>\n",
       "      <th>Contacts_Count_12_mon</th>\n",
       "      <th>Credit_Limit</th>\n",
       "      <th>Total_Revolving_Bal</th>\n",
       "      <th>Avg_Open_To_Buy</th>\n",
       "      <th>Total_Trans_Amt</th>\n",
       "      <th>Total_Trans_Ct</th>\n",
       "      <th>Avg_Utilization_Ratio</th>\n",
       "    </tr>\n",
       "  </thead>\n",
       "  <tbody>\n",
       "    <tr>\n",
       "      <th>0</th>\n",
       "      <td>768805383</td>\n",
       "      <td>Existing Customer</td>\n",
       "      <td>45</td>\n",
       "      <td>M</td>\n",
       "      <td>3</td>\n",
       "      <td>High School</td>\n",
       "      <td>Married</td>\n",
       "      <td>$60K - $80K</td>\n",
       "      <td>Blue</td>\n",
       "      <td>39</td>\n",
       "      <td>5</td>\n",
       "      <td>1</td>\n",
       "      <td>3</td>\n",
       "      <td>12691.0</td>\n",
       "      <td>777</td>\n",
       "      <td>11914.0</td>\n",
       "      <td>1144</td>\n",
       "      <td>42</td>\n",
       "      <td>0.061</td>\n",
       "    </tr>\n",
       "    <tr>\n",
       "      <th>1</th>\n",
       "      <td>818770008</td>\n",
       "      <td>Existing Customer</td>\n",
       "      <td>49</td>\n",
       "      <td>F</td>\n",
       "      <td>5</td>\n",
       "      <td>Graduate</td>\n",
       "      <td>Single</td>\n",
       "      <td>Less than $40K</td>\n",
       "      <td>Blue</td>\n",
       "      <td>44</td>\n",
       "      <td>6</td>\n",
       "      <td>1</td>\n",
       "      <td>2</td>\n",
       "      <td>8256.0</td>\n",
       "      <td>864</td>\n",
       "      <td>7392.0</td>\n",
       "      <td>1291</td>\n",
       "      <td>33</td>\n",
       "      <td>0.105</td>\n",
       "    </tr>\n",
       "    <tr>\n",
       "      <th>2</th>\n",
       "      <td>713982108</td>\n",
       "      <td>Existing Customer</td>\n",
       "      <td>51</td>\n",
       "      <td>M</td>\n",
       "      <td>3</td>\n",
       "      <td>Graduate</td>\n",
       "      <td>Married</td>\n",
       "      <td>$80K - $120K</td>\n",
       "      <td>Blue</td>\n",
       "      <td>36</td>\n",
       "      <td>4</td>\n",
       "      <td>1</td>\n",
       "      <td>0</td>\n",
       "      <td>3418.0</td>\n",
       "      <td>0</td>\n",
       "      <td>3418.0</td>\n",
       "      <td>1887</td>\n",
       "      <td>20</td>\n",
       "      <td>0.000</td>\n",
       "    </tr>\n",
       "    <tr>\n",
       "      <th>4</th>\n",
       "      <td>709106358</td>\n",
       "      <td>Existing Customer</td>\n",
       "      <td>40</td>\n",
       "      <td>M</td>\n",
       "      <td>3</td>\n",
       "      <td>Uneducated</td>\n",
       "      <td>Married</td>\n",
       "      <td>$60K - $80K</td>\n",
       "      <td>Blue</td>\n",
       "      <td>21</td>\n",
       "      <td>5</td>\n",
       "      <td>1</td>\n",
       "      <td>0</td>\n",
       "      <td>4716.0</td>\n",
       "      <td>0</td>\n",
       "      <td>4716.0</td>\n",
       "      <td>816</td>\n",
       "      <td>28</td>\n",
       "      <td>0.000</td>\n",
       "    </tr>\n",
       "    <tr>\n",
       "      <th>5</th>\n",
       "      <td>713061558</td>\n",
       "      <td>Existing Customer</td>\n",
       "      <td>44</td>\n",
       "      <td>M</td>\n",
       "      <td>2</td>\n",
       "      <td>Graduate</td>\n",
       "      <td>Married</td>\n",
       "      <td>$40K - $60K</td>\n",
       "      <td>Blue</td>\n",
       "      <td>36</td>\n",
       "      <td>3</td>\n",
       "      <td>1</td>\n",
       "      <td>2</td>\n",
       "      <td>4010.0</td>\n",
       "      <td>1247</td>\n",
       "      <td>2763.0</td>\n",
       "      <td>1088</td>\n",
       "      <td>24</td>\n",
       "      <td>0.311</td>\n",
       "    </tr>\n",
       "    <tr>\n",
       "      <th>...</th>\n",
       "      <td>...</td>\n",
       "      <td>...</td>\n",
       "      <td>...</td>\n",
       "      <td>...</td>\n",
       "      <td>...</td>\n",
       "      <td>...</td>\n",
       "      <td>...</td>\n",
       "      <td>...</td>\n",
       "      <td>...</td>\n",
       "      <td>...</td>\n",
       "      <td>...</td>\n",
       "      <td>...</td>\n",
       "      <td>...</td>\n",
       "      <td>...</td>\n",
       "      <td>...</td>\n",
       "      <td>...</td>\n",
       "      <td>...</td>\n",
       "      <td>...</td>\n",
       "      <td>...</td>\n",
       "    </tr>\n",
       "    <tr>\n",
       "      <th>10121</th>\n",
       "      <td>713899383</td>\n",
       "      <td>Existing Customer</td>\n",
       "      <td>56</td>\n",
       "      <td>F</td>\n",
       "      <td>1</td>\n",
       "      <td>Graduate</td>\n",
       "      <td>Single</td>\n",
       "      <td>Less than $40K</td>\n",
       "      <td>Blue</td>\n",
       "      <td>50</td>\n",
       "      <td>4</td>\n",
       "      <td>1</td>\n",
       "      <td>4</td>\n",
       "      <td>3688.0</td>\n",
       "      <td>606</td>\n",
       "      <td>3082.0</td>\n",
       "      <td>14596</td>\n",
       "      <td>120</td>\n",
       "      <td>0.164</td>\n",
       "    </tr>\n",
       "    <tr>\n",
       "      <th>10122</th>\n",
       "      <td>772366833</td>\n",
       "      <td>Existing Customer</td>\n",
       "      <td>50</td>\n",
       "      <td>M</td>\n",
       "      <td>2</td>\n",
       "      <td>Graduate</td>\n",
       "      <td>Single</td>\n",
       "      <td>$40K - $60K</td>\n",
       "      <td>Blue</td>\n",
       "      <td>40</td>\n",
       "      <td>3</td>\n",
       "      <td>2</td>\n",
       "      <td>3</td>\n",
       "      <td>4003.0</td>\n",
       "      <td>1851</td>\n",
       "      <td>2152.0</td>\n",
       "      <td>15476</td>\n",
       "      <td>117</td>\n",
       "      <td>0.462</td>\n",
       "    </tr>\n",
       "    <tr>\n",
       "      <th>10124</th>\n",
       "      <td>716506083</td>\n",
       "      <td>Attrited Customer</td>\n",
       "      <td>44</td>\n",
       "      <td>F</td>\n",
       "      <td>1</td>\n",
       "      <td>High School</td>\n",
       "      <td>Married</td>\n",
       "      <td>Less than $40K</td>\n",
       "      <td>Blue</td>\n",
       "      <td>36</td>\n",
       "      <td>5</td>\n",
       "      <td>3</td>\n",
       "      <td>4</td>\n",
       "      <td>5409.0</td>\n",
       "      <td>0</td>\n",
       "      <td>5409.0</td>\n",
       "      <td>10291</td>\n",
       "      <td>60</td>\n",
       "      <td>0.000</td>\n",
       "    </tr>\n",
       "    <tr>\n",
       "      <th>10125</th>\n",
       "      <td>717406983</td>\n",
       "      <td>Attrited Customer</td>\n",
       "      <td>30</td>\n",
       "      <td>M</td>\n",
       "      <td>2</td>\n",
       "      <td>Graduate</td>\n",
       "      <td>Unknown</td>\n",
       "      <td>$40K - $60K</td>\n",
       "      <td>Blue</td>\n",
       "      <td>36</td>\n",
       "      <td>4</td>\n",
       "      <td>3</td>\n",
       "      <td>3</td>\n",
       "      <td>5281.0</td>\n",
       "      <td>0</td>\n",
       "      <td>5281.0</td>\n",
       "      <td>8395</td>\n",
       "      <td>62</td>\n",
       "      <td>0.000</td>\n",
       "    </tr>\n",
       "    <tr>\n",
       "      <th>10126</th>\n",
       "      <td>714337233</td>\n",
       "      <td>Attrited Customer</td>\n",
       "      <td>43</td>\n",
       "      <td>F</td>\n",
       "      <td>2</td>\n",
       "      <td>Graduate</td>\n",
       "      <td>Married</td>\n",
       "      <td>Less than $40K</td>\n",
       "      <td>Silver</td>\n",
       "      <td>25</td>\n",
       "      <td>6</td>\n",
       "      <td>2</td>\n",
       "      <td>4</td>\n",
       "      <td>10388.0</td>\n",
       "      <td>1961</td>\n",
       "      <td>8427.0</td>\n",
       "      <td>10294</td>\n",
       "      <td>61</td>\n",
       "      <td>0.189</td>\n",
       "    </tr>\n",
       "  </tbody>\n",
       "</table>\n",
       "<p>7576 rows × 19 columns</p>\n",
       "</div>"
      ],
      "text/plain": [
       "       CLIENTNUM     Attrition_Flag  Customer_Age Gender  Dependent_count  \\\n",
       "0      768805383  Existing Customer            45      M                3   \n",
       "1      818770008  Existing Customer            49      F                5   \n",
       "2      713982108  Existing Customer            51      M                3   \n",
       "4      709106358  Existing Customer            40      M                3   \n",
       "5      713061558  Existing Customer            44      M                2   \n",
       "...          ...                ...           ...    ...              ...   \n",
       "10121  713899383  Existing Customer            56      F                1   \n",
       "10122  772366833  Existing Customer            50      M                2   \n",
       "10124  716506083  Attrited Customer            44      F                1   \n",
       "10125  717406983  Attrited Customer            30      M                2   \n",
       "10126  714337233  Attrited Customer            43      F                2   \n",
       "\n",
       "      Education_Level Marital_Status Income_Category Card_Category  \\\n",
       "0         High School        Married     $60K - $80K          Blue   \n",
       "1            Graduate         Single  Less than $40K          Blue   \n",
       "2            Graduate        Married    $80K - $120K          Blue   \n",
       "4          Uneducated        Married     $60K - $80K          Blue   \n",
       "5            Graduate        Married     $40K - $60K          Blue   \n",
       "...               ...            ...             ...           ...   \n",
       "10121        Graduate         Single  Less than $40K          Blue   \n",
       "10122        Graduate         Single     $40K - $60K          Blue   \n",
       "10124     High School        Married  Less than $40K          Blue   \n",
       "10125        Graduate        Unknown     $40K - $60K          Blue   \n",
       "10126        Graduate        Married  Less than $40K        Silver   \n",
       "\n",
       "       Months_on_book  Total_Relationship_Count  Months_Inactive_12_mon  \\\n",
       "0                  39                         5                       1   \n",
       "1                  44                         6                       1   \n",
       "2                  36                         4                       1   \n",
       "4                  21                         5                       1   \n",
       "5                  36                         3                       1   \n",
       "...               ...                       ...                     ...   \n",
       "10121              50                         4                       1   \n",
       "10122              40                         3                       2   \n",
       "10124              36                         5                       3   \n",
       "10125              36                         4                       3   \n",
       "10126              25                         6                       2   \n",
       "\n",
       "       Contacts_Count_12_mon  Credit_Limit  Total_Revolving_Bal  \\\n",
       "0                          3       12691.0                  777   \n",
       "1                          2        8256.0                  864   \n",
       "2                          0        3418.0                    0   \n",
       "4                          0        4716.0                    0   \n",
       "5                          2        4010.0                 1247   \n",
       "...                      ...           ...                  ...   \n",
       "10121                      4        3688.0                  606   \n",
       "10122                      3        4003.0                 1851   \n",
       "10124                      4        5409.0                    0   \n",
       "10125                      3        5281.0                    0   \n",
       "10126                      4       10388.0                 1961   \n",
       "\n",
       "       Avg_Open_To_Buy  Total_Trans_Amt  Total_Trans_Ct  Avg_Utilization_Ratio  \n",
       "0              11914.0             1144              42                  0.061  \n",
       "1               7392.0             1291              33                  0.105  \n",
       "2               3418.0             1887              20                  0.000  \n",
       "4               4716.0              816              28                  0.000  \n",
       "5               2763.0             1088              24                  0.311  \n",
       "...                ...              ...             ...                    ...  \n",
       "10121           3082.0            14596             120                  0.164  \n",
       "10122           2152.0            15476             117                  0.462  \n",
       "10124           5409.0            10291              60                  0.000  \n",
       "10125           5281.0             8395              62                  0.000  \n",
       "10126           8427.0            10294              61                  0.189  \n",
       "\n",
       "[7576 rows x 19 columns]"
      ]
     },
     "execution_count": 89,
     "metadata": {},
     "output_type": "execute_result"
    }
   ],
   "source": [
    "z=df[(df['Avg_Utilization_Ratio']<0.5)]\n",
    "z"
   ]
  },
  {
   "cell_type": "code",
   "execution_count": 91,
   "id": "3abf29c1",
   "metadata": {},
   "outputs": [
    {
     "data": {
      "image/png": "[encoded data removed]",
      "text/plain": [
       "<Figure size 1500x1000 with 1 Axes>"
      ]
     },
     "metadata": {},
     "output_type": "display_data"
    }
   ],
   "source": [
    "plt.figure(figsize=(15,10))\n",
    "sb.histplot(data=z,x=df['Customer_Age'],hue=df['Attrition_Flag']);"
   ]
  },
  {
   "cell_type": "markdown",
   "id": "040a9bbc",
   "metadata": {},
   "source": [
    "# Q10 (10. Analysis of marital status and utilization ratio of the customers who are leaving out the bank versus those who are still with the bank.)"
   ]
  },
  {
   "cell_type": "code",
   "execution_count": 56,
   "id": "c301f015",
   "metadata": {},
   "outputs": [
    {
     "name": "stdout",
     "output_type": "stream",
     "text": [
      "Unique values in Marital_Status are: ['Married' 'Single' 'Unknown' 'Divorced']\n",
      "Mode of Marital_Status is Married\n",
      "Number of missing values in Marital_Status is 0\n"
     ]
    }
   ],
   "source": [
    "info_of_cat('Marital_Status')"
   ]
  },
  {
   "cell_type": "code",
   "execution_count": 146,
   "id": "bd77a18b",
   "metadata": {},
   "outputs": [
    {
     "data": {
      "image/png": "[encoded data removed]",
      "text/plain": [
       "<Figure size 1500x700 with 1 Axes>"
      ]
     },
     "metadata": {},
     "output_type": "display_data"
    }
   ],
   "source": [
    "plt.figure(figsize=(15,7))\n",
    "sb.boxplot(data=df,x='Marital_Status',y='Avg_Utilization_Ratio',hue=df['Attrition_Flag']);"
   ]
  },
  {
   "cell_type": "markdown",
   "id": "2439ddb4",
   "metadata": {},
   "source": [
    "#conclusion:-  more no.of Divorced customer's had left the bank and with bank."
   ]
  },
  {
   "cell_type": "markdown",
   "id": "41a2033b",
   "metadata": {},
   "source": [
    "# Q11 (11. Is there a relation between the credit limit offered to the customers (having a lower utilization ratio) compared to those who are having a higher utilization ratio?)"
   ]
  },
  {
   "cell_type": "code",
   "execution_count": 63,
   "id": "fddab0c1",
   "metadata": {},
   "outputs": [
    {
     "name": "stdout",
     "output_type": "stream",
     "text": [
      "The mean of the Credit_Limit is 8703.180550312796\n",
      "The median of the Credit_Limit is 4557.0\n",
      "The mode of the Credit_Limit is 34516.0\n",
      "The standard deviation of the Credit_Limit is 9190.058901949453\n",
      "Number of missing values in the Credit_Limit is 60\n"
     ]
    }
   ],
   "source": [
    "info_of_numerical('Credit_Limit')"
   ]
  },
  {
   "cell_type": "code",
   "execution_count": 65,
   "id": "3ce2d99f",
   "metadata": {},
   "outputs": [
    {
     "name": "stdout",
     "output_type": "stream",
     "text": [
      "34516.0\n"
     ]
    }
   ],
   "source": [
    "Credit_Limit=df.Credit_Limit.mode()[0]\n",
    "print(Credit_Limit)\n",
    "df['Credit_Limit'].fillna(Credit_Limit, inplace=True)"
   ]
  },
  {
   "cell_type": "code",
   "execution_count": 97,
   "id": "33886db5",
   "metadata": {},
   "outputs": [
    {
     "data": {
      "text/plain": [
       "<AxesSubplot:xlabel='Credit_Limit'>"
      ]
     },
     "execution_count": 97,
     "metadata": {},
     "output_type": "execute_result"
    },
    {
     "data": {
      "image/png": "[encoded data removed]",
      "text/plain": [
       "<Figure size 1000x400 with 1 Axes>"
      ]
     },
     "metadata": {},
     "output_type": "display_data"
    }
   ],
   "source": [
    "plt.figure(figsize=(10,4))\n",
    "sb.boxplot(data=df, x=df['Credit_Limit'],hue=df['Avg_Utilization_Ratio'])"
   ]
  },
  {
   "cell_type": "markdown",
   "id": "164223e6",
   "metadata": {},
   "source": [
    "#conclusion:- lower utilisation ration have higher credit limit whereas with higher utilisation ration customers have lower."
   ]
  },
  {
   "cell_type": "code",
   "execution_count": 62,
   "id": "c38ab348",
   "metadata": {},
   "outputs": [
    {
     "data": {
      "text/plain": [
       "Index(['CLIENTNUM', 'Attrition_Flag', 'Customer_Age', 'Gender',\n",
       "       'Dependent_count', 'Education_Level', 'Marital_Status',\n",
       "       'Income_Category', 'Card_Category', 'Months_on_book',\n",
       "       'Total_Relationship_Count', 'Months_Inactive_12_mon',\n",
       "       'Contacts_Count_12_mon', 'Credit_Limit', 'Total_Revolving_Bal',\n",
       "       'Avg_Open_To_Buy', 'Total_Trans_Amt', 'Total_Trans_Ct',\n",
       "       'Avg_Utilization_Ratio'],\n",
       "      dtype='object')"
      ]
     },
     "execution_count": 62,
     "metadata": {},
     "output_type": "execute_result"
    }
   ],
   "source": [
    "df.columns"
   ]
  },
  {
   "cell_type": "markdown",
   "id": "2518d4df",
   "metadata": {},
   "source": [
    "# Repeat the same analysis with customers who are still with the bank."
   ]
  },
  {
   "cell_type": "markdown",
   "id": "1f5bc559",
   "metadata": {},
   "source": [
    "# Q1 (1. Is there a connection between the education level and the existing customers?)"
   ]
  },
  {
   "cell_type": "code",
   "execution_count": 29,
   "id": "af3da373",
   "metadata": {},
   "outputs": [
    {
     "name": "stdout",
     "output_type": "stream",
     "text": [
      "Unique values in Education_Level are: ['High School' 'Graduate' 'Uneducated' 'Unknown' 'College' 'Post-Graduate'\n",
      " 'Doctorate']\n",
      "Mode of Education_Level is Graduate\n",
      "Number of missing values in Education_Level is 0\n"
     ]
    }
   ],
   "source": [
    "info_of_cat('Education_Level')"
   ]
  },
  {
   "cell_type": "code",
   "execution_count": 26,
   "id": "3393b96c",
   "metadata": {},
   "outputs": [
    {
     "data": {
      "image/png": "[encoded data removed]",
      "text/plain": [
       "<Figure size 1000x400 with 1 Axes>"
      ]
     },
     "metadata": {},
     "output_type": "display_data"
    }
   ],
   "source": [
    "plt.figure(figsize=(10,4))\n",
    "plt.title('customers who are with bank')\n",
    "sb.countplot(data=df, x=df['Education_Level'],hue=df['Attrition_Flag']);\n",
    "\n"
   ]
  },
  {
   "cell_type": "markdown",
   "id": "a1e873a3",
   "metadata": {},
   "source": [
    "#conclusion:- Graduate are existing customers in the bank."
   ]
  },
  {
   "cell_type": "markdown",
   "id": "aca54373",
   "metadata": {},
   "source": [
    "# Q2 (2. Marital Status analysis of those customers who are with the bank)"
   ]
  },
  {
   "cell_type": "code",
   "execution_count": 31,
   "id": "b1b57226",
   "metadata": {},
   "outputs": [
    {
     "name": "stdout",
     "output_type": "stream",
     "text": [
      "Unique values in Marital_Status are: ['Married' 'Single' 'Unknown' 'Divorced']\n",
      "Mode of Marital_Status is Married\n",
      "Number of missing values in Marital_Status is 0\n"
     ]
    }
   ],
   "source": [
    "info_of_cat('Marital_Status')"
   ]
  },
  {
   "cell_type": "code",
   "execution_count": 35,
   "id": "48b03caa",
   "metadata": {},
   "outputs": [
    {
     "data": {
      "image/png": "[encoded data removed]",
      "text/plain": [
       "<Figure size 1000x400 with 1 Axes>"
      ]
     },
     "metadata": {},
     "output_type": "display_data"
    }
   ],
   "source": [
    "plt.figure(figsize=(10,4))\n",
    "sb.countplot(data=df, x=df['Marital_Status'], hue=df['Attrition_Flag']);"
   ]
  },
  {
   "cell_type": "markdown",
   "id": "8fab7f0a",
   "metadata": {},
   "source": [
    "#conclusion:- married people's are with the bank."
   ]
  },
  {
   "cell_type": "markdown",
   "id": "40219305",
   "metadata": {},
   "source": [
    "# Q3 ( Income category analysis of customers who are with the bank)\n"
   ]
  },
  {
   "cell_type": "code",
   "execution_count": 37,
   "id": "d358e7cf",
   "metadata": {},
   "outputs": [
    {
     "name": "stdout",
     "output_type": "stream",
     "text": [
      "Unique values in Income_Category are: ['$60K - $80K' 'Less than $40K' '$80K - $120K' '$40K - $60K' '$120K +'\n",
      " 'Unknown']\n",
      "Mode of Income_Category is Less than $40K\n",
      "Number of missing values in Income_Category is 0\n"
     ]
    }
   ],
   "source": [
    "info_of_cat('Income_Category')"
   ]
  },
  {
   "cell_type": "code",
   "execution_count": 38,
   "id": "d9998ebe",
   "metadata": {},
   "outputs": [
    {
     "data": {
      "image/png": "[encoded data removed]",
      "text/plain": [
       "<Figure size 1000x400 with 1 Axes>"
      ]
     },
     "metadata": {},
     "output_type": "display_data"
    }
   ],
   "source": [
    "plt.figure(figsize=(10,4))\n",
    "sb.countplot(data=df, x=df['Income_Category'], hue=df['Attrition_Flag']);"
   ]
  },
  {
   "cell_type": "markdown",
   "id": "9dfe53cb",
   "metadata": {},
   "source": [
    "#conclusion:- less than $40k customers are with the bank."
   ]
  },
  {
   "cell_type": "markdown",
   "id": "ad24c8f0",
   "metadata": {},
   "source": [
    "# Q4 ( Card category analysis of the customers who are still with the bank)\n"
   ]
  },
  {
   "cell_type": "code",
   "execution_count": 33,
   "id": "5092e676",
   "metadata": {},
   "outputs": [
    {
     "name": "stdout",
     "output_type": "stream",
     "text": [
      "Unique values in Card_Category are: ['Blue' 'Gold' 'Silver' nan 'Platinum']\n",
      "Mode of Card_Category is Blue\n",
      "Number of missing values in Card_Category is 132\n"
     ]
    }
   ],
   "source": [
    "info_of_cat('Card_Category')"
   ]
  },
  {
   "cell_type": "code",
   "execution_count": 36,
   "id": "3db524c0",
   "metadata": {},
   "outputs": [
    {
     "data": {
      "image/png": "[encoded data removed]",
      "text/plain": [
       "<Figure size 1000x400 with 1 Axes>"
      ]
     },
     "metadata": {},
     "output_type": "display_data"
    }
   ],
   "source": [
    "plt.figure(figsize=(10,4))\n",
    "sb.countplot(data=df,x=df['Card_Category'],hue=df['Attrition_Flag']);"
   ]
  },
  {
   "cell_type": "markdown",
   "id": "0b7f7cc0",
   "metadata": {},
   "source": [
    "#conclusion:- Blue customer's are still with the bank."
   ]
  },
  {
   "cell_type": "markdown",
   "id": "f0b5031e",
   "metadata": {},
   "source": [
    "# Q5  Is there any relation between months inactive and existing customers?)\n"
   ]
  },
  {
   "cell_type": "code",
   "execution_count": 43,
   "id": "16dc4020",
   "metadata": {},
   "outputs": [
    {
     "name": "stdout",
     "output_type": "stream",
     "text": [
      "The mean of the Months_Inactive_12_mon is 2.3411671768539546\n",
      "The median of the Months_Inactive_12_mon is 2.0\n",
      "The mode of the Months_Inactive_12_mon is 3\n",
      "The standard deviation of the Months_Inactive_12_mon is 1.0106223994182562\n",
      "Number of missing values in the Months_Inactive_12_mon is 0\n"
     ]
    }
   ],
   "source": [
    "info_of_numerical('Months_Inactive_12_mon')"
   ]
  },
  {
   "cell_type": "code",
   "execution_count": 155,
   "id": "719e4ec2",
   "metadata": {},
   "outputs": [
    {
     "data": {
      "text/plain": [
       "<AxesSubplot:xlabel='Months_Inactive_12_mon', ylabel='count'>"
      ]
     },
     "execution_count": 155,
     "metadata": {},
     "output_type": "execute_result"
    },
    {
     "data": {
      "image/png": "[encoded data removed]",
      "text/plain": [
       "<Figure size 1000x400 with 1 Axes>"
      ]
     },
     "metadata": {},
     "output_type": "display_data"
    }
   ],
   "source": [
    "plt.figure(figsize=(10,4))\n",
    "sb.countplot(data=df, x=df['Months_Inactive_12_mon'])"
   ]
  },
  {
   "cell_type": "markdown",
   "id": "11c1538d",
   "metadata": {},
   "source": [
    "#conclusion:-Majority of the existing customers are inactive for 3 months."
   ]
  },
  {
   "cell_type": "markdown",
   "id": "b1ce758a",
   "metadata": {},
   "source": [
    "# Q6 (6. Is there any relation between existing customers and relationship count?)"
   ]
  },
  {
   "cell_type": "code",
   "execution_count": 45,
   "id": "d8a9935c",
   "metadata": {},
   "outputs": [
    {
     "name": "stdout",
     "output_type": "stream",
     "text": [
      "The mean of the Total_Relationship_Count is 3.8125802310654686\n",
      "The median of the Total_Relationship_Count is 4.0\n",
      "The mode of the Total_Relationship_Count is 3\n",
      "The standard deviation of the Total_Relationship_Count is 1.5544078653388382\n",
      "Number of missing values in the Total_Relationship_Count is 0\n"
     ]
    }
   ],
   "source": [
    "info_of_numerical('Total_Relationship_Count')"
   ]
  },
  {
   "cell_type": "code",
   "execution_count": 154,
   "id": "aac7b39f",
   "metadata": {},
   "outputs": [
    {
     "data": {
      "text/plain": [
       "<AxesSubplot:xlabel='Months_Inactive_12_mon', ylabel='count'>"
      ]
     },
     "execution_count": 154,
     "metadata": {},
     "output_type": "execute_result"
    },
    {
     "data": {
      "image/png": "[encoded data removed]",
      "text/plain": [
       "<Figure size 1000x400 with 1 Axes>"
      ]
     },
     "metadata": {},
     "output_type": "display_data"
    }
   ],
   "source": [
    "plt.figure(figsize=(10,4))\n",
    "sb.countplot(data=df,x=df['Months_Inactive_12_mon'])\n"
   ]
  },
  {
   "cell_type": "markdown",
   "id": "ae253c7d",
   "metadata": {},
   "source": [
    "#conclusion:- people have 3 years of relationship with the bank. 20% of the poepole's existing customers in the first two years."
   ]
  },
  {
   "cell_type": "markdown",
   "id": "9c8ed544",
   "metadata": {},
   "source": [
    "# Q7 (7. Is there any relation between existing customers and contacts count?)"
   ]
  },
  {
   "cell_type": "code",
   "execution_count": 150,
   "id": "2358c2bb",
   "metadata": {},
   "outputs": [
    {
     "name": "stdout",
     "output_type": "stream",
     "text": [
      "The mean of the Contacts_Count_12_mon is 2.4553174681544387\n",
      "The median of the Contacts_Count_12_mon is 2.0\n",
      "The mode of the Contacts_Count_12_mon is 3\n",
      "The standard deviation of the Contacts_Count_12_mon is 1.1062251426358938\n",
      "Number of missing values in the Contacts_Count_12_mon is 0\n"
     ]
    }
   ],
   "source": [
    "info_of_numerical('Contacts_Count_12_mon')"
   ]
  },
  {
   "cell_type": "code",
   "execution_count": 153,
   "id": "1cfd1a70",
   "metadata": {},
   "outputs": [
    {
     "data": {
      "text/plain": [
       "<AxesSubplot:xlabel='Contacts_Count_12_mon', ylabel='count'>"
      ]
     },
     "execution_count": 153,
     "metadata": {},
     "output_type": "execute_result"
    },
    {
     "data": {
      "image/png": "[encoded data removed]",
      "text/plain": [
       "<Figure size 1000x400 with 1 Axes>"
      ]
     },
     "metadata": {},
     "output_type": "display_data"
    }
   ],
   "source": [
    "plt.figure(figsize=(10,4))\n",
    "sb.countplot(data=df,x=df['Contacts_Count_12_mon'])"
   ]
  },
  {
   "cell_type": "markdown",
   "id": "22ae3986",
   "metadata": {},
   "source": [
    "#conclusion:- people of extisting customers the bank of 2nd month and 3rd month."
   ]
  },
  {
   "cell_type": "markdown",
   "id": "09f41c6a",
   "metadata": {},
   "source": [
    "# part3 "
   ]
  },
  {
   "cell_type": "markdown",
   "id": "90c88aa4",
   "metadata": {},
   "source": [
    "# Q1(Present the details of Total Transaction Amount of existing customers who are high school pass outs.)"
   ]
  },
  {
   "cell_type": "code",
   "execution_count": 11,
   "id": "9961253e",
   "metadata": {},
   "outputs": [
    {
     "name": "stdout",
     "output_type": "stream",
     "text": [
      "Unique values in Education_Level are: ['High School' 'Graduate' 'Uneducated' 'Unknown' 'College' 'Post-Graduate'\n",
      " 'Doctorate']\n",
      "Mode of Education_Level is Graduate\n",
      "Number of missing values in Education_Level is 0\n"
     ]
    }
   ],
   "source": [
    "info_of_cat('Education_Level') "
   ]
  },
  {
   "cell_type": "code",
   "execution_count": 10,
   "id": "8bab27b5",
   "metadata": {},
   "outputs": [
    {
     "name": "stdout",
     "output_type": "stream",
     "text": [
      "The mean of the Total_Trans_Amt is 4404.086303939963\n",
      "The median of the Total_Trans_Amt is 3899.0\n",
      "The mode of the Total_Trans_Amt is 4253\n",
      "The standard deviation of the Total_Trans_Amt is 3397.129253557085\n",
      "Number of missing values in the Total_Trans_Amt is 0\n"
     ]
    }
   ],
   "source": [
    "info_of_numerical('Total_Trans_Amt')"
   ]
  },
  {
   "cell_type": "code",
   "execution_count": 45,
   "id": "95a648ee",
   "metadata": {},
   "outputs": [
    {
     "data": {
      "text/html": [
       "<div>\n",
       "<style scoped>\n",
       "    .dataframe tbody tr th:only-of-type {\n",
       "        vertical-align: middle;\n",
       "    }\n",
       "\n",
       "    .dataframe tbody tr th {\n",
       "        vertical-align: top;\n",
       "    }\n",
       "\n",
       "    .dataframe thead th {\n",
       "        text-align: right;\n",
       "    }\n",
       "</style>\n",
       "<table border=\"1\" class=\"dataframe\">\n",
       "  <thead>\n",
       "    <tr style=\"text-align: right;\">\n",
       "      <th></th>\n",
       "      <th>CLIENTNUM</th>\n",
       "      <th>Attrition_Flag</th>\n",
       "      <th>Customer_Age</th>\n",
       "      <th>Gender</th>\n",
       "      <th>Dependent_count</th>\n",
       "      <th>Education_Level</th>\n",
       "      <th>Marital_Status</th>\n",
       "      <th>Income_Category</th>\n",
       "      <th>Card_Category</th>\n",
       "      <th>Months_on_book</th>\n",
       "      <th>Total_Relationship_Count</th>\n",
       "      <th>Months_Inactive_12_mon</th>\n",
       "      <th>Contacts_Count_12_mon</th>\n",
       "      <th>Credit_Limit</th>\n",
       "      <th>Total_Revolving_Bal</th>\n",
       "      <th>Avg_Open_To_Buy</th>\n",
       "      <th>Total_Trans_Amt</th>\n",
       "      <th>Total_Trans_Ct</th>\n",
       "      <th>Avg_Utilization_Ratio</th>\n",
       "    </tr>\n",
       "  </thead>\n",
       "  <tbody>\n",
       "    <tr>\n",
       "      <th>0</th>\n",
       "      <td>768805383</td>\n",
       "      <td>Existing Customer</td>\n",
       "      <td>45</td>\n",
       "      <td>M</td>\n",
       "      <td>3</td>\n",
       "      <td>High School</td>\n",
       "      <td>Married</td>\n",
       "      <td>$60K - $80K</td>\n",
       "      <td>Blue</td>\n",
       "      <td>39</td>\n",
       "      <td>5</td>\n",
       "      <td>1</td>\n",
       "      <td>3</td>\n",
       "      <td>12691.0</td>\n",
       "      <td>777</td>\n",
       "      <td>11914.0</td>\n",
       "      <td>1144</td>\n",
       "      <td>42</td>\n",
       "      <td>0.061</td>\n",
       "    </tr>\n",
       "    <tr>\n",
       "      <th>1</th>\n",
       "      <td>818770008</td>\n",
       "      <td>Existing Customer</td>\n",
       "      <td>49</td>\n",
       "      <td>F</td>\n",
       "      <td>5</td>\n",
       "      <td>Graduate</td>\n",
       "      <td>Single</td>\n",
       "      <td>Less than $40K</td>\n",
       "      <td>Blue</td>\n",
       "      <td>44</td>\n",
       "      <td>6</td>\n",
       "      <td>1</td>\n",
       "      <td>2</td>\n",
       "      <td>8256.0</td>\n",
       "      <td>864</td>\n",
       "      <td>7392.0</td>\n",
       "      <td>1291</td>\n",
       "      <td>33</td>\n",
       "      <td>0.105</td>\n",
       "    </tr>\n",
       "    <tr>\n",
       "      <th>2</th>\n",
       "      <td>713982108</td>\n",
       "      <td>Existing Customer</td>\n",
       "      <td>51</td>\n",
       "      <td>M</td>\n",
       "      <td>3</td>\n",
       "      <td>Graduate</td>\n",
       "      <td>Married</td>\n",
       "      <td>$80K - $120K</td>\n",
       "      <td>Blue</td>\n",
       "      <td>36</td>\n",
       "      <td>4</td>\n",
       "      <td>1</td>\n",
       "      <td>0</td>\n",
       "      <td>3418.0</td>\n",
       "      <td>0</td>\n",
       "      <td>3418.0</td>\n",
       "      <td>1887</td>\n",
       "      <td>20</td>\n",
       "      <td>0.000</td>\n",
       "    </tr>\n",
       "    <tr>\n",
       "      <th>3</th>\n",
       "      <td>769911858</td>\n",
       "      <td>Existing Customer</td>\n",
       "      <td>40</td>\n",
       "      <td>F</td>\n",
       "      <td>4</td>\n",
       "      <td>High School</td>\n",
       "      <td>Unknown</td>\n",
       "      <td>Less than $40K</td>\n",
       "      <td>Blue</td>\n",
       "      <td>34</td>\n",
       "      <td>3</td>\n",
       "      <td>4</td>\n",
       "      <td>1</td>\n",
       "      <td>3313.0</td>\n",
       "      <td>2517</td>\n",
       "      <td>796.0</td>\n",
       "      <td>1171</td>\n",
       "      <td>20</td>\n",
       "      <td>0.760</td>\n",
       "    </tr>\n",
       "    <tr>\n",
       "      <th>4</th>\n",
       "      <td>709106358</td>\n",
       "      <td>Existing Customer</td>\n",
       "      <td>40</td>\n",
       "      <td>M</td>\n",
       "      <td>3</td>\n",
       "      <td>Uneducated</td>\n",
       "      <td>Married</td>\n",
       "      <td>$60K - $80K</td>\n",
       "      <td>Blue</td>\n",
       "      <td>21</td>\n",
       "      <td>5</td>\n",
       "      <td>1</td>\n",
       "      <td>0</td>\n",
       "      <td>4716.0</td>\n",
       "      <td>0</td>\n",
       "      <td>4716.0</td>\n",
       "      <td>816</td>\n",
       "      <td>28</td>\n",
       "      <td>0.000</td>\n",
       "    </tr>\n",
       "    <tr>\n",
       "      <th>...</th>\n",
       "      <td>...</td>\n",
       "      <td>...</td>\n",
       "      <td>...</td>\n",
       "      <td>...</td>\n",
       "      <td>...</td>\n",
       "      <td>...</td>\n",
       "      <td>...</td>\n",
       "      <td>...</td>\n",
       "      <td>...</td>\n",
       "      <td>...</td>\n",
       "      <td>...</td>\n",
       "      <td>...</td>\n",
       "      <td>...</td>\n",
       "      <td>...</td>\n",
       "      <td>...</td>\n",
       "      <td>...</td>\n",
       "      <td>...</td>\n",
       "      <td>...</td>\n",
       "      <td>...</td>\n",
       "    </tr>\n",
       "    <tr>\n",
       "      <th>10117</th>\n",
       "      <td>712503408</td>\n",
       "      <td>Existing Customer</td>\n",
       "      <td>57</td>\n",
       "      <td>M</td>\n",
       "      <td>2</td>\n",
       "      <td>Graduate</td>\n",
       "      <td>Married</td>\n",
       "      <td>$80K - $120K</td>\n",
       "      <td>Blue</td>\n",
       "      <td>40</td>\n",
       "      <td>6</td>\n",
       "      <td>3</td>\n",
       "      <td>4</td>\n",
       "      <td>17925.0</td>\n",
       "      <td>1909</td>\n",
       "      <td>16016.0</td>\n",
       "      <td>17498</td>\n",
       "      <td>111</td>\n",
       "      <td>0.106</td>\n",
       "    </tr>\n",
       "    <tr>\n",
       "      <th>10120</th>\n",
       "      <td>710841183</td>\n",
       "      <td>Existing Customer</td>\n",
       "      <td>54</td>\n",
       "      <td>M</td>\n",
       "      <td>1</td>\n",
       "      <td>High School</td>\n",
       "      <td>Single</td>\n",
       "      <td>$60K - $80K</td>\n",
       "      <td>Blue</td>\n",
       "      <td>34</td>\n",
       "      <td>5</td>\n",
       "      <td>2</td>\n",
       "      <td>0</td>\n",
       "      <td>13940.0</td>\n",
       "      <td>2109</td>\n",
       "      <td>11831.0</td>\n",
       "      <td>15577</td>\n",
       "      <td>114</td>\n",
       "      <td>0.151</td>\n",
       "    </tr>\n",
       "    <tr>\n",
       "      <th>10121</th>\n",
       "      <td>713899383</td>\n",
       "      <td>Existing Customer</td>\n",
       "      <td>56</td>\n",
       "      <td>F</td>\n",
       "      <td>1</td>\n",
       "      <td>Graduate</td>\n",
       "      <td>Single</td>\n",
       "      <td>Less than $40K</td>\n",
       "      <td>Blue</td>\n",
       "      <td>50</td>\n",
       "      <td>4</td>\n",
       "      <td>1</td>\n",
       "      <td>4</td>\n",
       "      <td>3688.0</td>\n",
       "      <td>606</td>\n",
       "      <td>3082.0</td>\n",
       "      <td>14596</td>\n",
       "      <td>120</td>\n",
       "      <td>0.164</td>\n",
       "    </tr>\n",
       "    <tr>\n",
       "      <th>10122</th>\n",
       "      <td>772366833</td>\n",
       "      <td>Existing Customer</td>\n",
       "      <td>50</td>\n",
       "      <td>M</td>\n",
       "      <td>2</td>\n",
       "      <td>Graduate</td>\n",
       "      <td>Single</td>\n",
       "      <td>$40K - $60K</td>\n",
       "      <td>Blue</td>\n",
       "      <td>40</td>\n",
       "      <td>3</td>\n",
       "      <td>2</td>\n",
       "      <td>3</td>\n",
       "      <td>4003.0</td>\n",
       "      <td>1851</td>\n",
       "      <td>2152.0</td>\n",
       "      <td>15476</td>\n",
       "      <td>117</td>\n",
       "      <td>0.462</td>\n",
       "    </tr>\n",
       "    <tr>\n",
       "      <th>10124</th>\n",
       "      <td>716506083</td>\n",
       "      <td>Attrited Customer</td>\n",
       "      <td>44</td>\n",
       "      <td>F</td>\n",
       "      <td>1</td>\n",
       "      <td>High School</td>\n",
       "      <td>Married</td>\n",
       "      <td>Less than $40K</td>\n",
       "      <td>Blue</td>\n",
       "      <td>36</td>\n",
       "      <td>5</td>\n",
       "      <td>3</td>\n",
       "      <td>4</td>\n",
       "      <td>5409.0</td>\n",
       "      <td>0</td>\n",
       "      <td>5409.0</td>\n",
       "      <td>10291</td>\n",
       "      <td>60</td>\n",
       "      <td>0.000</td>\n",
       "    </tr>\n",
       "  </tbody>\n",
       "</table>\n",
       "<p>8806 rows × 19 columns</p>\n",
       "</div>"
      ],
      "text/plain": [
       "       CLIENTNUM     Attrition_Flag  Customer_Age Gender  Dependent_count  \\\n",
       "0      768805383  Existing Customer            45      M                3   \n",
       "1      818770008  Existing Customer            49      F                5   \n",
       "2      713982108  Existing Customer            51      M                3   \n",
       "3      769911858  Existing Customer            40      F                4   \n",
       "4      709106358  Existing Customer            40      M                3   \n",
       "...          ...                ...           ...    ...              ...   \n",
       "10117  712503408  Existing Customer            57      M                2   \n",
       "10120  710841183  Existing Customer            54      M                1   \n",
       "10121  713899383  Existing Customer            56      F                1   \n",
       "10122  772366833  Existing Customer            50      M                2   \n",
       "10124  716506083  Attrited Customer            44      F                1   \n",
       "\n",
       "      Education_Level Marital_Status Income_Category Card_Category  \\\n",
       "0         High School        Married     $60K - $80K          Blue   \n",
       "1            Graduate         Single  Less than $40K          Blue   \n",
       "2            Graduate        Married    $80K - $120K          Blue   \n",
       "3         High School        Unknown  Less than $40K          Blue   \n",
       "4          Uneducated        Married     $60K - $80K          Blue   \n",
       "...               ...            ...             ...           ...   \n",
       "10117        Graduate        Married    $80K - $120K          Blue   \n",
       "10120     High School         Single     $60K - $80K          Blue   \n",
       "10121        Graduate         Single  Less than $40K          Blue   \n",
       "10122        Graduate         Single     $40K - $60K          Blue   \n",
       "10124     High School        Married  Less than $40K          Blue   \n",
       "\n",
       "       Months_on_book  Total_Relationship_Count  Months_Inactive_12_mon  \\\n",
       "0                  39                         5                       1   \n",
       "1                  44                         6                       1   \n",
       "2                  36                         4                       1   \n",
       "3                  34                         3                       4   \n",
       "4                  21                         5                       1   \n",
       "...               ...                       ...                     ...   \n",
       "10117              40                         6                       3   \n",
       "10120              34                         5                       2   \n",
       "10121              50                         4                       1   \n",
       "10122              40                         3                       2   \n",
       "10124              36                         5                       3   \n",
       "\n",
       "       Contacts_Count_12_mon  Credit_Limit  Total_Revolving_Bal  \\\n",
       "0                          3       12691.0                  777   \n",
       "1                          2        8256.0                  864   \n",
       "2                          0        3418.0                    0   \n",
       "3                          1        3313.0                 2517   \n",
       "4                          0        4716.0                    0   \n",
       "...                      ...           ...                  ...   \n",
       "10117                      4       17925.0                 1909   \n",
       "10120                      0       13940.0                 2109   \n",
       "10121                      4        3688.0                  606   \n",
       "10122                      3        4003.0                 1851   \n",
       "10124                      4        5409.0                    0   \n",
       "\n",
       "       Avg_Open_To_Buy  Total_Trans_Amt  Total_Trans_Ct  Avg_Utilization_Ratio  \n",
       "0              11914.0             1144              42                  0.061  \n",
       "1               7392.0             1291              33                  0.105  \n",
       "2               3418.0             1887              20                  0.000  \n",
       "3                796.0             1171              20                  0.760  \n",
       "4               4716.0              816              28                  0.000  \n",
       "...                ...              ...             ...                    ...  \n",
       "10117          16016.0            17498             111                  0.106  \n",
       "10120          11831.0            15577             114                  0.151  \n",
       "10121           3082.0            14596             120                  0.164  \n",
       "10122           2152.0            15476             117                  0.462  \n",
       "10124           5409.0            10291              60                  0.000  \n",
       "\n",
       "[8806 rows x 19 columns]"
      ]
     },
     "execution_count": 45,
     "metadata": {},
     "output_type": "execute_result"
    }
   ],
   "source": [
    "x=df[(df['Education_Level']=='High School') | (df[\"Attrition_Flag\"] == \"Existing Customer\")]\n",
    "x"
   ]
  },
  {
   "cell_type": "code",
   "execution_count": 50,
   "id": "497de8fd",
   "metadata": {},
   "outputs": [
    {
     "data": {
      "text/plain": [
       "<AxesSubplot:xlabel='Total_Trans_Amt', ylabel='Count'>"
      ]
     },
     "execution_count": 50,
     "metadata": {},
     "output_type": "execute_result"
    },
    {
     "data": {
      "image/png": "[encoded data removed]",
      "text/plain": [
       "<Figure size 1000x400 with 1 Axes>"
      ]
     },
     "metadata": {},
     "output_type": "display_data"
    }
   ],
   "source": [
    "plt.figure(figsize=(10,4))\n",
    "sb.histplot(data=x,x=x['Total_Trans_Amt'])"
   ]
  },
  {
   "cell_type": "markdown",
   "id": "d91f1c29",
   "metadata": {},
   "source": [
    "#conclusion:- Total Transaction Amount of existing customers 4000-5000 are high school pass outs."
   ]
  },
  {
   "cell_type": "markdown",
   "id": "2bb6897b",
   "metadata": {},
   "source": [
    "# Q2 ( Analysis of the education level of the customers who are with the bank and those who left)"
   ]
  },
  {
   "cell_type": "code",
   "execution_count": 73,
   "id": "75262c2e",
   "metadata": {},
   "outputs": [
    {
     "name": "stdout",
     "output_type": "stream",
     "text": [
      "Unique values in Education_Level are: ['High School' 'Graduate' 'Uneducated' 'Unknown' 'College' 'Post-Graduate'\n",
      " 'Doctorate']\n",
      "Mode of Education_Level is Graduate\n",
      "Number of missing values in Education_Level is 0\n"
     ]
    }
   ],
   "source": [
    "info_of_cat('Education_Level')"
   ]
  },
  {
   "cell_type": "code",
   "execution_count": 75,
   "id": "a8863c35",
   "metadata": {},
   "outputs": [
    {
     "data": {
      "text/plain": [
       "<AxesSubplot:xlabel='Education_Level', ylabel='count'>"
      ]
     },
     "execution_count": 75,
     "metadata": {},
     "output_type": "execute_result"
    },
    {
     "data": {
      "image/png": "[encoded data removed]",
      "text/plain": [
       "<Figure size 1000x400 with 1 Axes>"
      ]
     },
     "metadata": {},
     "output_type": "display_data"
    }
   ],
   "source": [
    "plt.figure(figsize=(10,4))\n",
    "sb.countplot(data=df, x=df['Education_Level'],hue=df['Attrition_Flag'])"
   ]
  },
  {
   "cell_type": "markdown",
   "id": "d5f0c836",
   "metadata": {},
   "source": [
    "#conclusion:- more no.of Graduate people's are with the bank and they left the bank."
   ]
  },
  {
   "cell_type": "markdown",
   "id": "4c99e23f",
   "metadata": {},
   "source": [
    "# Q3 (Analysis of Transaction Amount (mean, median, and mode) made by the existing customers and comparing it with those who are not existing)"
   ]
  },
  {
   "cell_type": "code",
   "execution_count": 30,
   "id": "85fd17b6",
   "metadata": {},
   "outputs": [
    {
     "name": "stdout",
     "output_type": "stream",
     "text": [
      "The mean of the Total_Trans_Amt is 4404.086303939963\n",
      "The median of the Total_Trans_Amt is 3899.0\n",
      "The mode of the Total_Trans_Amt is 4253\n",
      "The standard deviation of the Total_Trans_Amt is 3397.129253557085\n",
      "Number of missing values in the Total_Trans_Amt is 0\n"
     ]
    }
   ],
   "source": [
    "info_of_numerical('Total_Trans_Amt')"
   ]
  },
  {
   "cell_type": "code",
   "execution_count": 32,
   "id": "76c7a596",
   "metadata": {},
   "outputs": [
    {
     "name": "stdout",
     "output_type": "stream",
     "text": [
      "mean of Existing customer 4654.655882352941\n",
      "medain of Existing customer 4100.0\n",
      "mode of Existing customer 4253\n"
     ]
    }
   ],
   "source": [
    "#method1\n",
    "print('mean of Existing customer', df[(df['Attrition_Flag']=='Existing Customer')]['Total_Trans_Amt'].mean())\n",
    "print('medain of Existing customer', df[(df['Attrition_Flag']=='Existing Customer')]['Total_Trans_Amt'].median())\n",
    "print('mode of Existing customer', df[(df['Attrition_Flag']=='Existing Customer')]['Total_Trans_Amt'].mode()[0])"
   ]
  },
  {
   "cell_type": "code",
   "execution_count": 33,
   "id": "7d31a2d9",
   "metadata": {},
   "outputs": [
    {
     "name": "stdout",
     "output_type": "stream",
     "text": [
      "mean of Attrited Customer 3095.025814382299\n",
      "medain of Attrited Customerr 2329.0\n",
      "mode of Attrited Customer 2108\n"
     ]
    }
   ],
   "source": [
    "print('mean of Attrited Customer', df[(df['Attrition_Flag']=='Attrited Customer')]['Total_Trans_Amt'].mean())\n",
    "print('medain of Attrited Customerr', df[(df['Attrition_Flag']=='Attrited Customer')]['Total_Trans_Amt'].median())\n",
    "print('mode of Attrited Customer', df[(df['Attrition_Flag']=='Attrited Customer')]['Total_Trans_Amt'].mode()[0])"
   ]
  },
  {
   "cell_type": "code",
   "execution_count": 69,
   "id": "0f7e86af",
   "metadata": {},
   "outputs": [
    {
     "data": {
      "text/html": [
       "<div>\n",
       "<style scoped>\n",
       "    .dataframe tbody tr th:only-of-type {\n",
       "        vertical-align: middle;\n",
       "    }\n",
       "\n",
       "    .dataframe tbody tr th {\n",
       "        vertical-align: top;\n",
       "    }\n",
       "\n",
       "    .dataframe thead th {\n",
       "        text-align: right;\n",
       "    }\n",
       "</style>\n",
       "<table border=\"1\" class=\"dataframe\">\n",
       "  <thead>\n",
       "    <tr style=\"text-align: right;\">\n",
       "      <th></th>\n",
       "      <th>mean</th>\n",
       "      <th>median</th>\n",
       "    </tr>\n",
       "    <tr>\n",
       "      <th>Attrition_Flag</th>\n",
       "      <th></th>\n",
       "      <th></th>\n",
       "    </tr>\n",
       "  </thead>\n",
       "  <tbody>\n",
       "    <tr>\n",
       "      <th>Attrited Customer</th>\n",
       "      <td>3095.025814</td>\n",
       "      <td>2329.0</td>\n",
       "    </tr>\n",
       "    <tr>\n",
       "      <th>Existing Customer</th>\n",
       "      <td>4654.655882</td>\n",
       "      <td>4100.0</td>\n",
       "    </tr>\n",
       "  </tbody>\n",
       "</table>\n",
       "</div>"
      ],
      "text/plain": [
       "                          mean  median\n",
       "Attrition_Flag                        \n",
       "Attrited Customer  3095.025814  2329.0\n",
       "Existing Customer  4654.655882  4100.0"
      ]
     },
     "execution_count": 69,
     "metadata": {},
     "output_type": "execute_result"
    }
   ],
   "source": [
    "#method2\n",
    "df.groupby(['Attrition_Flag'])['Total_Trans_Amt'].agg(['mean','median'])"
   ]
  },
  {
   "cell_type": "markdown",
   "id": "51c285de",
   "metadata": {},
   "source": [
    "#The mode of the Total_Trans_Amt is 4253"
   ]
  },
  {
   "cell_type": "markdown",
   "id": "bf90371b",
   "metadata": {},
   "source": [
    "#conclusion:- Attrition_flag of Existing customers and Attrited Customer are high in mean."
   ]
  },
  {
   "cell_type": "markdown",
   "id": "34ae4482",
   "metadata": {},
   "source": [
    "# Q4 ( What is the average utilization ratio of the existing customers?)"
   ]
  },
  {
   "cell_type": "code",
   "execution_count": 86,
   "id": "112b5633",
   "metadata": {},
   "outputs": [
    {
     "name": "stdout",
     "output_type": "stream",
     "text": [
      "The mean of the Avg_Utilization_Ratio is 0.2748935518909845\n",
      "The median of the Avg_Utilization_Ratio is 0.176\n",
      "The mode of the Avg_Utilization_Ratio is 0.0\n",
      "The standard deviation of the Avg_Utilization_Ratio is 0.2756914692523933\n",
      "Number of missing values in the Avg_Utilization_Ratio is 0\n"
     ]
    }
   ],
   "source": [
    "info_of_numerical('Avg_Utilization_Ratio')"
   ]
  },
  {
   "cell_type": "code",
   "execution_count": 51,
   "id": "bb86032d",
   "metadata": {},
   "outputs": [],
   "source": [
    "z=df[(df['Attrition_Flag']=='Existing Customer')]"
   ]
  },
  {
   "cell_type": "code",
   "execution_count": 52,
   "id": "8da304b2",
   "metadata": {},
   "outputs": [
    {
     "data": {
      "text/plain": [
       "<AxesSubplot:xlabel='Avg_Utilization_Ratio', ylabel='Count'>"
      ]
     },
     "execution_count": 52,
     "metadata": {},
     "output_type": "execute_result"
    },
    {
     "data": {
      "image/png": "[encoded data removed]",
      "text/plain": [
       "<Figure size 1000x400 with 1 Axes>"
      ]
     },
     "metadata": {},
     "output_type": "display_data"
    }
   ],
   "source": [
    "plt.figure(figsize=(10,4))\n",
    "sb.histplot(data=z, x=z['Avg_Utilization_Ratio'])"
   ]
  },
  {
   "cell_type": "markdown",
   "id": "88eceff2",
   "metadata": {},
   "source": [
    "#conclusion:- The Majority of average utilization ratio of the existing customers."
   ]
  },
  {
   "cell_type": "markdown",
   "id": "62a9b3d4",
   "metadata": {},
   "source": [
    "# Q5 (13. Analysis of the churned out customers who hold the blue card with respect to their income categories)"
   ]
  },
  {
   "cell_type": "code",
   "execution_count": 56,
   "id": "b72e97b7",
   "metadata": {},
   "outputs": [
    {
     "name": "stdout",
     "output_type": "stream",
     "text": [
      "Unique values in Income_Category are: ['$60K - $80K' 'Less than $40K' '$80K - $120K' '$40K - $60K' '$120K +'\n",
      " 'Unknown']\n",
      "Mode of Income_Category is Less than $40K\n",
      "Number of missing values in Income_Category is 0\n"
     ]
    }
   ],
   "source": [
    "info_of_cat('Income_Category')"
   ]
  },
  {
   "cell_type": "code",
   "execution_count": 57,
   "id": "f58b8d93",
   "metadata": {},
   "outputs": [],
   "source": [
    "y=df[(df['Attrition_Flag']==' Attrited Customer') & (df['Card_Category']=='Blue')]"
   ]
  },
  {
   "cell_type": "code",
   "execution_count": 59,
   "id": "eb41596d",
   "metadata": {},
   "outputs": [
    {
     "data": {
      "text/plain": [
       "<AxesSubplot:xlabel='Income_Category', ylabel='Count'>"
      ]
     },
     "execution_count": 59,
     "metadata": {},
     "output_type": "execute_result"
    },
    {
     "data": {
      "image/png": "[encoded data removed]",
      "text/plain": [
       "<Figure size 1000x400 with 1 Axes>"
      ]
     },
     "metadata": {},
     "output_type": "display_data"
    }
   ],
   "source": [
    "plt.figure(figsize=(10,4))\n",
    "sb.histplot(data=y, x=df['Income_Category'])"
   ]
  },
  {
   "cell_type": "markdown",
   "id": "f7bc0ad7",
   "metadata": {},
   "source": [
    "#conclusion:-less than 40k churned customers are hold the blue card."
   ]
  },
  {
   "cell_type": "markdown",
   "id": "aa677dd2",
   "metadata": {},
   "source": [
    "# Q6 ( Analysis of transaction amount (mean, median, mode) for blue card customers who are no longer with the bank and comparing it with the existing customers)"
   ]
  },
  {
   "cell_type": "code",
   "execution_count": 34,
   "id": "5352933e",
   "metadata": {},
   "outputs": [
    {
     "name": "stdout",
     "output_type": "stream",
     "text": [
      "The mean of the Total_Trans_Amt is 4404.086303939963\n",
      "The median of the Total_Trans_Amt is 3899.0\n",
      "The mode of the Total_Trans_Amt is 4253\n",
      "The standard deviation of the Total_Trans_Amt is 3397.129253557085\n",
      "Number of missing values in the Total_Trans_Amt is 0\n"
     ]
    }
   ],
   "source": [
    "info_of_numerical('Total_Trans_Amt')"
   ]
  },
  {
   "cell_type": "code",
   "execution_count": 36,
   "id": "3ef4159d",
   "metadata": {},
   "outputs": [
    {
     "name": "stdout",
     "output_type": "stream",
     "text": [
      "mean of Existing customer 4654.655882352941\n"
     ]
    }
   ],
   "source": [
    "print('mean of Existing customer', df[(df['Attrition_Flag']=='Existing Customer')]['Total_Trans_Amt'].mean())"
   ]
  },
  {
   "cell_type": "code",
   "execution_count": null,
   "id": "2fb1805e",
   "metadata": {},
   "outputs": [],
   "source": []
  },
  {
   "cell_type": "code",
   "execution_count": 73,
   "id": "7463c193",
   "metadata": {},
   "outputs": [
    {
     "data": {
      "text/html": [
       "<div>\n",
       "<style scoped>\n",
       "    .dataframe tbody tr th:only-of-type {\n",
       "        vertical-align: middle;\n",
       "    }\n",
       "\n",
       "    .dataframe tbody tr th {\n",
       "        vertical-align: top;\n",
       "    }\n",
       "\n",
       "    .dataframe thead th {\n",
       "        text-align: right;\n",
       "    }\n",
       "</style>\n",
       "<table border=\"1\" class=\"dataframe\">\n",
       "  <thead>\n",
       "    <tr style=\"text-align: right;\">\n",
       "      <th></th>\n",
       "      <th></th>\n",
       "      <th>mean</th>\n",
       "      <th>median</th>\n",
       "    </tr>\n",
       "    <tr>\n",
       "      <th>Attrition_Flag</th>\n",
       "      <th>Card_Category</th>\n",
       "      <th></th>\n",
       "      <th></th>\n",
       "    </tr>\n",
       "  </thead>\n",
       "  <tbody>\n",
       "    <tr>\n",
       "      <th rowspan=\"4\" valign=\"top\">Attrited Customer</th>\n",
       "      <th>Blue</th>\n",
       "      <td>2942.893404</td>\n",
       "      <td>2314.0</td>\n",
       "    </tr>\n",
       "    <tr>\n",
       "      <th>Gold</th>\n",
       "      <td>5841.809524</td>\n",
       "      <td>6782.0</td>\n",
       "    </tr>\n",
       "    <tr>\n",
       "      <th>Platinum</th>\n",
       "      <td>4755.800000</td>\n",
       "      <td>4758.0</td>\n",
       "    </tr>\n",
       "    <tr>\n",
       "      <th>Silver</th>\n",
       "      <td>4878.525000</td>\n",
       "      <td>4753.0</td>\n",
       "    </tr>\n",
       "    <tr>\n",
       "      <th rowspan=\"4\" valign=\"top\">Existing Customer</th>\n",
       "      <th>Blue</th>\n",
       "      <td>4473.625160</td>\n",
       "      <td>4087.0</td>\n",
       "    </tr>\n",
       "    <tr>\n",
       "      <th>Gold</th>\n",
       "      <td>8093.189474</td>\n",
       "      <td>7690.0</td>\n",
       "    </tr>\n",
       "    <tr>\n",
       "      <th>Platinum</th>\n",
       "      <td>10414.400000</td>\n",
       "      <td>8888.0</td>\n",
       "    </tr>\n",
       "    <tr>\n",
       "      <th>Silver</th>\n",
       "      <td>6948.627155</td>\n",
       "      <td>4281.0</td>\n",
       "    </tr>\n",
       "  </tbody>\n",
       "</table>\n",
       "</div>"
      ],
      "text/plain": [
       "                                         mean  median\n",
       "Attrition_Flag    Card_Category                      \n",
       "Attrited Customer Blue            2942.893404  2314.0\n",
       "                  Gold            5841.809524  6782.0\n",
       "                  Platinum        4755.800000  4758.0\n",
       "                  Silver          4878.525000  4753.0\n",
       "Existing Customer Blue            4473.625160  4087.0\n",
       "                  Gold            8093.189474  7690.0\n",
       "                  Platinum       10414.400000  8888.0\n",
       "                  Silver          6948.627155  4281.0"
      ]
     },
     "execution_count": 73,
     "metadata": {},
     "output_type": "execute_result"
    }
   ],
   "source": [
    "df.groupby(['Attrition_Flag','Card_Category'])['Total_Trans_Amt'].agg(['mean','median'])"
   ]
  },
  {
   "cell_type": "markdown",
   "id": "c6b81906",
   "metadata": {},
   "source": [
    "#The mode of the Total_Trans_Amt is 4253"
   ]
  },
  {
   "cell_type": "markdown",
   "id": "24824375",
   "metadata": {},
   "source": [
    "#conclusion:- transaction amount (mean, median, mode) for blue card customers high in Existing customers."
   ]
  },
  {
   "cell_type": "markdown",
   "id": "c18d1d21",
   "metadata": {},
   "source": [
    "# Q7 ( How is the credit limit of the blue card customers affecting the churn?)"
   ]
  },
  {
   "cell_type": "code",
   "execution_count": 37,
   "id": "ca94584d",
   "metadata": {},
   "outputs": [
    {
     "name": "stdout",
     "output_type": "stream",
     "text": [
      "The mean of the Credit_Limit is 8703.180550312796\n",
      "The median of the Credit_Limit is 4557.0\n",
      "The mode of the Credit_Limit is 34516.0\n",
      "The standard deviation of the Credit_Limit is 9190.058901949453\n",
      "Number of missing values in the Credit_Limit is 60\n"
     ]
    }
   ],
   "source": [
    "info_of_numerical('Credit_Limit')"
   ]
  },
  {
   "cell_type": "code",
   "execution_count": 42,
   "id": "317f4ad2",
   "metadata": {},
   "outputs": [
    {
     "data": {
      "text/html": [
       "<div>\n",
       "<style scoped>\n",
       "    .dataframe tbody tr th:only-of-type {\n",
       "        vertical-align: middle;\n",
       "    }\n",
       "\n",
       "    .dataframe tbody tr th {\n",
       "        vertical-align: top;\n",
       "    }\n",
       "\n",
       "    .dataframe thead th {\n",
       "        text-align: right;\n",
       "    }\n",
       "</style>\n",
       "<table border=\"1\" class=\"dataframe\">\n",
       "  <thead>\n",
       "    <tr style=\"text-align: right;\">\n",
       "      <th></th>\n",
       "      <th>CLIENTNUM</th>\n",
       "      <th>Attrition_Flag</th>\n",
       "      <th>Customer_Age</th>\n",
       "      <th>Gender</th>\n",
       "      <th>Dependent_count</th>\n",
       "      <th>Education_Level</th>\n",
       "      <th>Marital_Status</th>\n",
       "      <th>Income_Category</th>\n",
       "      <th>Card_Category</th>\n",
       "      <th>Months_on_book</th>\n",
       "      <th>Total_Relationship_Count</th>\n",
       "      <th>Months_Inactive_12_mon</th>\n",
       "      <th>Contacts_Count_12_mon</th>\n",
       "      <th>Credit_Limit</th>\n",
       "      <th>Total_Revolving_Bal</th>\n",
       "      <th>Avg_Open_To_Buy</th>\n",
       "      <th>Total_Trans_Amt</th>\n",
       "      <th>Total_Trans_Ct</th>\n",
       "      <th>Avg_Utilization_Ratio</th>\n",
       "    </tr>\n",
       "  </thead>\n",
       "  <tbody>\n",
       "    <tr>\n",
       "      <th>21</th>\n",
       "      <td>708508758</td>\n",
       "      <td>Attrited Customer</td>\n",
       "      <td>62</td>\n",
       "      <td>F</td>\n",
       "      <td>0</td>\n",
       "      <td>Graduate</td>\n",
       "      <td>Married</td>\n",
       "      <td>Less than $40K</td>\n",
       "      <td>Blue</td>\n",
       "      <td>49</td>\n",
       "      <td>2</td>\n",
       "      <td>3</td>\n",
       "      <td>3</td>\n",
       "      <td>1438.3</td>\n",
       "      <td>0</td>\n",
       "      <td>1438.3</td>\n",
       "      <td>692</td>\n",
       "      <td>16</td>\n",
       "      <td>0.000</td>\n",
       "    </tr>\n",
       "    <tr>\n",
       "      <th>39</th>\n",
       "      <td>708300483</td>\n",
       "      <td>Attrited Customer</td>\n",
       "      <td>66</td>\n",
       "      <td>F</td>\n",
       "      <td>0</td>\n",
       "      <td>Doctorate</td>\n",
       "      <td>Married</td>\n",
       "      <td>Unknown</td>\n",
       "      <td>Blue</td>\n",
       "      <td>56</td>\n",
       "      <td>5</td>\n",
       "      <td>4</td>\n",
       "      <td>3</td>\n",
       "      <td>7882.0</td>\n",
       "      <td>605</td>\n",
       "      <td>7277.0</td>\n",
       "      <td>704</td>\n",
       "      <td>16</td>\n",
       "      <td>0.077</td>\n",
       "    </tr>\n",
       "    <tr>\n",
       "      <th>51</th>\n",
       "      <td>779471883</td>\n",
       "      <td>Attrited Customer</td>\n",
       "      <td>54</td>\n",
       "      <td>F</td>\n",
       "      <td>1</td>\n",
       "      <td>Graduate</td>\n",
       "      <td>Married</td>\n",
       "      <td>Less than $40K</td>\n",
       "      <td>Blue</td>\n",
       "      <td>40</td>\n",
       "      <td>2</td>\n",
       "      <td>3</td>\n",
       "      <td>1</td>\n",
       "      <td>1438.3</td>\n",
       "      <td>808</td>\n",
       "      <td>630.3</td>\n",
       "      <td>705</td>\n",
       "      <td>19</td>\n",
       "      <td>0.562</td>\n",
       "    </tr>\n",
       "    <tr>\n",
       "      <th>54</th>\n",
       "      <td>714374133</td>\n",
       "      <td>Attrited Customer</td>\n",
       "      <td>56</td>\n",
       "      <td>M</td>\n",
       "      <td>2</td>\n",
       "      <td>Graduate</td>\n",
       "      <td>Married</td>\n",
       "      <td>$120K +</td>\n",
       "      <td>Blue</td>\n",
       "      <td>36</td>\n",
       "      <td>1</td>\n",
       "      <td>3</td>\n",
       "      <td>3</td>\n",
       "      <td>15769.0</td>\n",
       "      <td>0</td>\n",
       "      <td>15769.0</td>\n",
       "      <td>602</td>\n",
       "      <td>15</td>\n",
       "      <td>0.000</td>\n",
       "    </tr>\n",
       "    <tr>\n",
       "      <th>82</th>\n",
       "      <td>711013983</td>\n",
       "      <td>Attrited Customer</td>\n",
       "      <td>55</td>\n",
       "      <td>F</td>\n",
       "      <td>4</td>\n",
       "      <td>Unknown</td>\n",
       "      <td>Married</td>\n",
       "      <td>$40K - $60K</td>\n",
       "      <td>Blue</td>\n",
       "      <td>45</td>\n",
       "      <td>2</td>\n",
       "      <td>4</td>\n",
       "      <td>3</td>\n",
       "      <td>2158.0</td>\n",
       "      <td>0</td>\n",
       "      <td>2158.0</td>\n",
       "      <td>615</td>\n",
       "      <td>12</td>\n",
       "      <td>0.000</td>\n",
       "    </tr>\n",
       "    <tr>\n",
       "      <th>...</th>\n",
       "      <td>...</td>\n",
       "      <td>...</td>\n",
       "      <td>...</td>\n",
       "      <td>...</td>\n",
       "      <td>...</td>\n",
       "      <td>...</td>\n",
       "      <td>...</td>\n",
       "      <td>...</td>\n",
       "      <td>...</td>\n",
       "      <td>...</td>\n",
       "      <td>...</td>\n",
       "      <td>...</td>\n",
       "      <td>...</td>\n",
       "      <td>...</td>\n",
       "      <td>...</td>\n",
       "      <td>...</td>\n",
       "      <td>...</td>\n",
       "      <td>...</td>\n",
       "      <td>...</td>\n",
       "    </tr>\n",
       "    <tr>\n",
       "      <th>10118</th>\n",
       "      <td>713755458</td>\n",
       "      <td>Attrited Customer</td>\n",
       "      <td>50</td>\n",
       "      <td>M</td>\n",
       "      <td>1</td>\n",
       "      <td>Unknown</td>\n",
       "      <td>Unknown</td>\n",
       "      <td>$80K - $120K</td>\n",
       "      <td>Blue</td>\n",
       "      <td>36</td>\n",
       "      <td>6</td>\n",
       "      <td>3</td>\n",
       "      <td>4</td>\n",
       "      <td>9959.0</td>\n",
       "      <td>952</td>\n",
       "      <td>9007.0</td>\n",
       "      <td>10310</td>\n",
       "      <td>63</td>\n",
       "      <td>0.096</td>\n",
       "    </tr>\n",
       "    <tr>\n",
       "      <th>10119</th>\n",
       "      <td>716893683</td>\n",
       "      <td>Attrited Customer</td>\n",
       "      <td>55</td>\n",
       "      <td>F</td>\n",
       "      <td>3</td>\n",
       "      <td>Uneducated</td>\n",
       "      <td>Single</td>\n",
       "      <td>Unknown</td>\n",
       "      <td>Blue</td>\n",
       "      <td>47</td>\n",
       "      <td>4</td>\n",
       "      <td>3</td>\n",
       "      <td>3</td>\n",
       "      <td>14657.0</td>\n",
       "      <td>2517</td>\n",
       "      <td>12140.0</td>\n",
       "      <td>6009</td>\n",
       "      <td>53</td>\n",
       "      <td>0.172</td>\n",
       "    </tr>\n",
       "    <tr>\n",
       "      <th>10123</th>\n",
       "      <td>710638233</td>\n",
       "      <td>Attrited Customer</td>\n",
       "      <td>41</td>\n",
       "      <td>M</td>\n",
       "      <td>2</td>\n",
       "      <td>Unknown</td>\n",
       "      <td>Divorced</td>\n",
       "      <td>$40K - $60K</td>\n",
       "      <td>Blue</td>\n",
       "      <td>25</td>\n",
       "      <td>4</td>\n",
       "      <td>2</td>\n",
       "      <td>3</td>\n",
       "      <td>4277.0</td>\n",
       "      <td>2186</td>\n",
       "      <td>2091.0</td>\n",
       "      <td>8764</td>\n",
       "      <td>69</td>\n",
       "      <td>0.511</td>\n",
       "    </tr>\n",
       "    <tr>\n",
       "      <th>10124</th>\n",
       "      <td>716506083</td>\n",
       "      <td>Attrited Customer</td>\n",
       "      <td>44</td>\n",
       "      <td>F</td>\n",
       "      <td>1</td>\n",
       "      <td>High School</td>\n",
       "      <td>Married</td>\n",
       "      <td>Less than $40K</td>\n",
       "      <td>Blue</td>\n",
       "      <td>36</td>\n",
       "      <td>5</td>\n",
       "      <td>3</td>\n",
       "      <td>4</td>\n",
       "      <td>5409.0</td>\n",
       "      <td>0</td>\n",
       "      <td>5409.0</td>\n",
       "      <td>10291</td>\n",
       "      <td>60</td>\n",
       "      <td>0.000</td>\n",
       "    </tr>\n",
       "    <tr>\n",
       "      <th>10125</th>\n",
       "      <td>717406983</td>\n",
       "      <td>Attrited Customer</td>\n",
       "      <td>30</td>\n",
       "      <td>M</td>\n",
       "      <td>2</td>\n",
       "      <td>Graduate</td>\n",
       "      <td>Unknown</td>\n",
       "      <td>$40K - $60K</td>\n",
       "      <td>Blue</td>\n",
       "      <td>36</td>\n",
       "      <td>4</td>\n",
       "      <td>3</td>\n",
       "      <td>3</td>\n",
       "      <td>5281.0</td>\n",
       "      <td>0</td>\n",
       "      <td>5281.0</td>\n",
       "      <td>8395</td>\n",
       "      <td>62</td>\n",
       "      <td>0.000</td>\n",
       "    </tr>\n",
       "  </tbody>\n",
       "</table>\n",
       "<p>1501 rows × 19 columns</p>\n",
       "</div>"
      ],
      "text/plain": [
       "       CLIENTNUM     Attrition_Flag  Customer_Age Gender  Dependent_count  \\\n",
       "21     708508758  Attrited Customer            62      F                0   \n",
       "39     708300483  Attrited Customer            66      F                0   \n",
       "51     779471883  Attrited Customer            54      F                1   \n",
       "54     714374133  Attrited Customer            56      M                2   \n",
       "82     711013983  Attrited Customer            55      F                4   \n",
       "...          ...                ...           ...    ...              ...   \n",
       "10118  713755458  Attrited Customer            50      M                1   \n",
       "10119  716893683  Attrited Customer            55      F                3   \n",
       "10123  710638233  Attrited Customer            41      M                2   \n",
       "10124  716506083  Attrited Customer            44      F                1   \n",
       "10125  717406983  Attrited Customer            30      M                2   \n",
       "\n",
       "      Education_Level Marital_Status Income_Category Card_Category  \\\n",
       "21           Graduate        Married  Less than $40K          Blue   \n",
       "39          Doctorate        Married         Unknown          Blue   \n",
       "51           Graduate        Married  Less than $40K          Blue   \n",
       "54           Graduate        Married         $120K +          Blue   \n",
       "82            Unknown        Married     $40K - $60K          Blue   \n",
       "...               ...            ...             ...           ...   \n",
       "10118         Unknown        Unknown    $80K - $120K          Blue   \n",
       "10119      Uneducated         Single         Unknown          Blue   \n",
       "10123         Unknown       Divorced     $40K - $60K          Blue   \n",
       "10124     High School        Married  Less than $40K          Blue   \n",
       "10125        Graduate        Unknown     $40K - $60K          Blue   \n",
       "\n",
       "       Months_on_book  Total_Relationship_Count  Months_Inactive_12_mon  \\\n",
       "21                 49                         2                       3   \n",
       "39                 56                         5                       4   \n",
       "51                 40                         2                       3   \n",
       "54                 36                         1                       3   \n",
       "82                 45                         2                       4   \n",
       "...               ...                       ...                     ...   \n",
       "10118              36                         6                       3   \n",
       "10119              47                         4                       3   \n",
       "10123              25                         4                       2   \n",
       "10124              36                         5                       3   \n",
       "10125              36                         4                       3   \n",
       "\n",
       "       Contacts_Count_12_mon  Credit_Limit  Total_Revolving_Bal  \\\n",
       "21                         3        1438.3                    0   \n",
       "39                         3        7882.0                  605   \n",
       "51                         1        1438.3                  808   \n",
       "54                         3       15769.0                    0   \n",
       "82                         3        2158.0                    0   \n",
       "...                      ...           ...                  ...   \n",
       "10118                      4        9959.0                  952   \n",
       "10119                      3       14657.0                 2517   \n",
       "10123                      3        4277.0                 2186   \n",
       "10124                      4        5409.0                    0   \n",
       "10125                      3        5281.0                    0   \n",
       "\n",
       "       Avg_Open_To_Buy  Total_Trans_Amt  Total_Trans_Ct  Avg_Utilization_Ratio  \n",
       "21              1438.3              692              16                  0.000  \n",
       "39              7277.0              704              16                  0.077  \n",
       "51               630.3              705              19                  0.562  \n",
       "54             15769.0              602              15                  0.000  \n",
       "82              2158.0              615              12                  0.000  \n",
       "...                ...              ...             ...                    ...  \n",
       "10118           9007.0            10310              63                  0.096  \n",
       "10119          12140.0             6009              53                  0.172  \n",
       "10123           2091.0             8764              69                  0.511  \n",
       "10124           5409.0            10291              60                  0.000  \n",
       "10125           5281.0             8395              62                  0.000  \n",
       "\n",
       "[1501 rows x 19 columns]"
      ]
     },
     "execution_count": 42,
     "metadata": {},
     "output_type": "execute_result"
    }
   ],
   "source": [
    "m=df[(df['Attrition_Flag']=='Attrited Customer') & (df['Card_Category']=='Blue')]\n",
    "m"
   ]
  },
  {
   "cell_type": "code",
   "execution_count": 44,
   "id": "e4b7c623",
   "metadata": {},
   "outputs": [
    {
     "data": {
      "text/plain": [
       "<AxesSubplot:xlabel='Credit_Limit', ylabel='Count'>"
      ]
     },
     "execution_count": 44,
     "metadata": {},
     "output_type": "execute_result"
    },
    {
     "data": {
      "image/png": "[encoded data removed]",
      "text/plain": [
       "<Figure size 1000x400 with 1 Axes>"
      ]
     },
     "metadata": {},
     "output_type": "display_data"
    }
   ],
   "source": [
    "plt.figure(figsize=(10,4))\n",
    "bins=[5000,10000,15000,20000,25000,30000,35000]\n",
    "labels=['5000-10000','10000-15000','15000-20000','20000-25000','25000-30000','30000-35000']\n",
    "x=pd.cut(df['Credit_Limit'],bins=bins,labels=labels)\n",
    "sb.histplot(data=m,x=m['Credit_Limit'],color='r')"
   ]
  },
  {
   "cell_type": "markdown",
   "id": "a1fb61d3",
   "metadata": {},
   "source": [
    "#conclusion:- Majority of people's of credit limit of customers affecting the churn of blue card."
   ]
  },
  {
   "cell_type": "markdown",
   "id": "19db22d4",
   "metadata": {},
   "source": [
    "# Q8 ( Analysis of the dependent count with respect to the customers who have churned out and the customers who are still using the services)"
   ]
  },
  {
   "cell_type": "code",
   "execution_count": 6,
   "id": "b3ff5b84",
   "metadata": {},
   "outputs": [
    {
     "name": "stdout",
     "output_type": "stream",
     "text": [
      "The mean of the Dependent_count is 2.7874000197491853\n",
      "The median of the Dependent_count is 2.0\n",
      "The mode of the Dependent_count is 3\n",
      "The standard deviation of the Dependent_count is 6.479134929706418\n",
      "Number of missing values in the Dependent_count is 0\n"
     ]
    }
   ],
   "source": [
    "info_of_numerical('Dependent_count')"
   ]
  },
  {
   "cell_type": "code",
   "execution_count": 8,
   "id": "ac23162f",
   "metadata": {
    "scrolled": true
   },
   "outputs": [
    {
     "data": {
      "text/plain": [
       "array([1, 4, 2, 3, 6, 0, 5], dtype=int64)"
      ]
     },
     "execution_count": 8,
     "metadata": {},
     "output_type": "execute_result"
    }
   ],
   "source": [
    "df['Months_Inactive_12_mon'].unique()"
   ]
  },
  {
   "cell_type": "code",
   "execution_count": 11,
   "id": "def2d70c",
   "metadata": {},
   "outputs": [],
   "source": [
    "a=df[(df['Months_Inactive_12_mon']==0) & (df['Attrition_Flag']=='Attrited Customer')]"
   ]
  },
  {
   "cell_type": "code",
   "execution_count": 12,
   "id": "433000f3",
   "metadata": {},
   "outputs": [
    {
     "data": {
      "text/plain": [
       "<AxesSubplot:xlabel='Dependent_count', ylabel='count'>"
      ]
     },
     "execution_count": 12,
     "metadata": {},
     "output_type": "execute_result"
    },
    {
     "data": {
      "image/png": "[encoded data removed]",
      "text/plain": [
       "<Figure size 1000x700 with 1 Axes>"
      ]
     },
     "metadata": {},
     "output_type": "display_data"
    }
   ],
   "source": [
    "plt.figure(figsize=(10,7))\n",
    "sb.countplot(data=a, x=a['Dependent_count'])"
   ]
  },
  {
   "cell_type": "markdown",
   "id": "e8806681",
   "metadata": {},
   "source": [
    "#conclusion:-  The customers who have 2 dependents are usually high."
   ]
  },
  {
   "cell_type": "markdown",
   "id": "24c7cbbd",
   "metadata": {},
   "source": [
    "# Q9 (Is there a relation between the credit limit and the attrition of the customers?)"
   ]
  },
  {
   "cell_type": "code",
   "execution_count": 104,
   "id": "9f5b9d0b",
   "metadata": {},
   "outputs": [
    {
     "name": "stdout",
     "output_type": "stream",
     "text": [
      "The mean of the Credit_Limit is 8856.115196998016\n",
      "The median of the Credit_Limit is 4597.0\n",
      "The mode of the Credit_Limit is 34516.0\n",
      "The standard deviation of the Credit_Limit is 9374.508947187947\n",
      "Number of missing values in the Credit_Limit is 0\n"
     ]
    }
   ],
   "source": [
    "info_of_numerical('Credit_Limit')"
   ]
  },
  {
   "cell_type": "code",
   "execution_count": 16,
   "id": "8ad01b51",
   "metadata": {},
   "outputs": [
    {
     "data": {
      "text/plain": [
       "<AxesSubplot:xlabel='Credit_Limit', ylabel='Count'>"
      ]
     },
     "execution_count": 16,
     "metadata": {},
     "output_type": "execute_result"
    },
    {
     "data": {
      "image/png": "[encoded data removed]",
      "text/plain": [
       "<Figure size 1000x400 with 1 Axes>"
      ]
     },
     "metadata": {},
     "output_type": "display_data"
    }
   ],
   "source": [
    "plt.figure(figsize=(10,4))\n",
    "labels=['low','average','medium','high']\n",
    "x=pd.cut(df['Credit_Limit'],bins=4,labels=labels)\n",
    "sb.histplot(x=x,hue=df['Attrition_Flag'])"
   ]
  },
  {
   "cell_type": "markdown",
   "id": "bb9c60d4",
   "metadata": {},
   "source": [
    "#conclusion:- a relation between the credit limit and the attrition of the customers are very low crediti."
   ]
  },
  {
   "cell_type": "markdown",
   "id": "8241d2db",
   "metadata": {},
   "source": [
    "# Q10 (What is the average utilization ratio of the credit card for each age sub-group between 40 and 50? (We need to group the customers into 4 buckets between 40 and 50.))"
   ]
  },
  {
   "cell_type": "code",
   "execution_count": 19,
   "id": "0445a7c7",
   "metadata": {},
   "outputs": [
    {
     "name": "stdout",
     "output_type": "stream",
     "text": [
      "The mean of the Customer_Age is 47.285276982324476\n",
      "The median of the Customer_Age is 46.0\n",
      "The mode of the Customer_Age is 44\n",
      "The standard deviation of the Customer_Age is 13.270923260536502\n",
      "Number of missing values in the Customer_Age is 0\n"
     ]
    }
   ],
   "source": [
    "info_of_numerical('Customer_Age')"
   ]
  },
  {
   "cell_type": "code",
   "execution_count": 36,
   "id": "43cc9421",
   "metadata": {},
   "outputs": [
    {
     "data": {
      "text/plain": [
       "<AxesSubplot:xlabel='Attrition_Flag', ylabel='Customer_Age'>"
      ]
     },
     "execution_count": 36,
     "metadata": {},
     "output_type": "execute_result"
    },
    {
     "data": {
      "image/png": "[encoded data removed]",
      "text/plain": [
       "<Figure size 1500x700 with 2 Axes>"
      ]
     },
     "metadata": {},
     "output_type": "display_data"
    }
   ],
   "source": [
    "fig, ax, =plt.subplots(1, 2, figsize=(15,7))\n",
    "bins=[40,44,46,48,50]\n",
    "labels=['40-44','44-46','46-48','48-50']\n",
    "x=pd.cut(x=df['Customer_Age'],bins=bins,labels=labels)\n",
    "sb.histplot(x=x,ax=ax[0])\n",
    "sb.boxplot(y=df['Customer_Age'],x=df['Attrition_Flag'],ax=ax[1])"
   ]
  },
  {
   "cell_type": "markdown",
   "id": "9d35a01d",
   "metadata": {},
   "source": [
    "conclusion:- The average utilization ratio of the credit card for each age sub-group between 40-50 . the sub-group of customer-age is high in 40-40 age."
   ]
  },
  {
   "cell_type": "markdown",
   "id": "27c1bfc8",
   "metadata": {},
   "source": [
    "# Q11.( How are the education level and income category affecting the customer churn?)"
   ]
  },
  {
   "cell_type": "code",
   "execution_count": 67,
   "id": "31b6a617",
   "metadata": {},
   "outputs": [
    {
     "name": "stdout",
     "output_type": "stream",
     "text": [
      "Unique values in Education_Level are: ['High School' 'Graduate' 'Uneducated' 'Unknown' 'College' 'Post-Graduate'\n",
      " 'Doctorate']\n",
      "Mode of Education_Level is Graduate\n",
      "Number of missing values in Education_Level is 0\n"
     ]
    }
   ],
   "source": [
    "info_of_cat('Education_Level')"
   ]
  },
  {
   "cell_type": "code",
   "execution_count": 68,
   "id": "52b302c7",
   "metadata": {},
   "outputs": [
    {
     "name": "stdout",
     "output_type": "stream",
     "text": [
      "Unique values in Attrition_Flag are: ['Existing Customer' 'Attrited Customer']\n",
      "Mode of Attrition_Flag is Existing Customer\n",
      "Number of missing values in Attrition_Flag is 0\n"
     ]
    }
   ],
   "source": [
    "info_of_cat('Attrition_Flag')"
   ]
  },
  {
   "cell_type": "code",
   "execution_count": 70,
   "id": "a4191413",
   "metadata": {},
   "outputs": [
    {
     "name": "stdout",
     "output_type": "stream",
     "text": [
      "Unique values in Income_Category are: ['$60K - $80K' 'Less than $40K' '$80K - $120K' '$40K - $60K' '$120K +'\n",
      " 'Unknown']\n",
      "Mode of Income_Category is Less than $40K\n",
      "Number of missing values in Income_Category is 0\n"
     ]
    }
   ],
   "source": [
    "info_of_cat('Income_Category')"
   ]
  },
  {
   "cell_type": "code",
   "execution_count": 11,
   "id": "e135c212",
   "metadata": {},
   "outputs": [],
   "source": [
    "m=df[(df['Attrition_Flag']=='Attrited Customer')]"
   ]
  },
  {
   "cell_type": "code",
   "execution_count": 14,
   "id": "c5eb0b5a",
   "metadata": {
    "scrolled": false
   },
   "outputs": [
    {
     "data": {
      "image/png": "[encoded data removed]",
      "text/plain": [
       "<Figure size 4200x600 with 7 Axes>"
      ]
     },
     "metadata": {},
     "output_type": "display_data"
    }
   ],
   "source": [
    "p=sb.FacetGrid(m,col='Education_Level',height=6)\n",
    "p.map(sb.countplot,'Income_Category')\n",
    "plt.show()"
   ]
  },
  {
   "cell_type": "markdown",
   "id": "7bc143e8",
   "metadata": {},
   "source": [
    "# Q12.( Identify the churned out customers with high income category, high education level, and high credit limit.)\n"
   ]
  },
  {
   "cell_type": "code",
   "execution_count": 23,
   "id": "08ba43f1",
   "metadata": {},
   "outputs": [
    {
     "name": "stdout",
     "output_type": "stream",
     "text": [
      "Unique values in Income_Category are: ['$60K - $80K' 'Less than $40K' '$80K - $120K' '$40K - $60K' '$120K +'\n",
      " 'Unknown']\n",
      "Mode of Income_Category is Less than $40K\n",
      "Number of missing values in Income_Category is 0\n"
     ]
    }
   ],
   "source": [
    "info_of_cat('Income_Category')"
   ]
  },
  {
   "cell_type": "code",
   "execution_count": 31,
   "id": "18478137",
   "metadata": {},
   "outputs": [
    {
     "name": "stdout",
     "output_type": "stream",
     "text": [
      "Unique values in Education_Level are: ['High School' 'Graduate' 'Uneducated' 'Unknown' 'College' 'Post-Graduate'\n",
      " 'Doctorate']\n",
      "Mode of Education_Level is Graduate\n",
      "Number of missing values in Education_Level is 0\n"
     ]
    }
   ],
   "source": [
    "info_of_cat('Education_Level')"
   ]
  },
  {
   "cell_type": "code",
   "execution_count": 32,
   "id": "fddc12ff",
   "metadata": {},
   "outputs": [
    {
     "name": "stdout",
     "output_type": "stream",
     "text": [
      "The mean of the Credit_Limit is 8703.180550312796\n",
      "The median of the Credit_Limit is 4557.0\n",
      "The mode of the Credit_Limit is 34516.0\n",
      "The standard deviation of the Credit_Limit is 9190.058901949453\n",
      "Number of missing values in the Credit_Limit is 60\n"
     ]
    }
   ],
   "source": [
    "info_of_numerical('Credit_Limit')"
   ]
  },
  {
   "cell_type": "code",
   "execution_count": 118,
   "id": "431309a5",
   "metadata": {},
   "outputs": [
    {
     "data": {
      "text/html": [
       "<div>\n",
       "<style scoped>\n",
       "    .dataframe tbody tr th:only-of-type {\n",
       "        vertical-align: middle;\n",
       "    }\n",
       "\n",
       "    .dataframe tbody tr th {\n",
       "        vertical-align: top;\n",
       "    }\n",
       "\n",
       "    .dataframe thead th {\n",
       "        text-align: right;\n",
       "    }\n",
       "</style>\n",
       "<table border=\"1\" class=\"dataframe\">\n",
       "  <thead>\n",
       "    <tr style=\"text-align: right;\">\n",
       "      <th></th>\n",
       "      <th>CLIENTNUM</th>\n",
       "      <th>Attrition_Flag</th>\n",
       "      <th>Customer_Age</th>\n",
       "      <th>Gender</th>\n",
       "      <th>Dependent_count</th>\n",
       "      <th>Education_Level</th>\n",
       "      <th>Marital_Status</th>\n",
       "      <th>Income_Category</th>\n",
       "      <th>Card_Category</th>\n",
       "      <th>Months_on_book</th>\n",
       "      <th>Total_Relationship_Count</th>\n",
       "      <th>Months_Inactive_12_mon</th>\n",
       "      <th>Contacts_Count_12_mon</th>\n",
       "      <th>Credit_Limit</th>\n",
       "      <th>Total_Revolving_Bal</th>\n",
       "      <th>Avg_Open_To_Buy</th>\n",
       "      <th>Total_Trans_Amt</th>\n",
       "      <th>Total_Trans_Ct</th>\n",
       "      <th>Avg_Utilization_Ratio</th>\n",
       "    </tr>\n",
       "  </thead>\n",
       "  <tbody>\n",
       "    <tr>\n",
       "      <th>6861</th>\n",
       "      <td>808747233</td>\n",
       "      <td>Attrited Customer</td>\n",
       "      <td>50</td>\n",
       "      <td>M</td>\n",
       "      <td>2</td>\n",
       "      <td>Doctorate</td>\n",
       "      <td>Married</td>\n",
       "      <td>$120K +</td>\n",
       "      <td>Silver</td>\n",
       "      <td>45</td>\n",
       "      <td>6</td>\n",
       "      <td>3</td>\n",
       "      <td>3</td>\n",
       "      <td>34516.0</td>\n",
       "      <td>0</td>\n",
       "      <td>34516.0</td>\n",
       "      <td>2573</td>\n",
       "      <td>55</td>\n",
       "      <td>0.000</td>\n",
       "    </tr>\n",
       "    <tr>\n",
       "      <th>9846</th>\n",
       "      <td>758753283</td>\n",
       "      <td>Attrited Customer</td>\n",
       "      <td>52</td>\n",
       "      <td>M</td>\n",
       "      <td>3</td>\n",
       "      <td>Doctorate</td>\n",
       "      <td>Married</td>\n",
       "      <td>$120K +</td>\n",
       "      <td>Blue</td>\n",
       "      <td>45</td>\n",
       "      <td>1</td>\n",
       "      <td>3</td>\n",
       "      <td>3</td>\n",
       "      <td>34516.0</td>\n",
       "      <td>550</td>\n",
       "      <td>33966.0</td>\n",
       "      <td>7341</td>\n",
       "      <td>71</td>\n",
       "      <td>0.016</td>\n",
       "    </tr>\n",
       "  </tbody>\n",
       "</table>\n",
       "</div>"
      ],
      "text/plain": [
       "      CLIENTNUM     Attrition_Flag  Customer_Age Gender  Dependent_count  \\\n",
       "6861  808747233  Attrited Customer            50      M                2   \n",
       "9846  758753283  Attrited Customer            52      M                3   \n",
       "\n",
       "     Education_Level Marital_Status Income_Category Card_Category  \\\n",
       "6861       Doctorate        Married         $120K +        Silver   \n",
       "9846       Doctorate        Married         $120K +          Blue   \n",
       "\n",
       "      Months_on_book  Total_Relationship_Count  Months_Inactive_12_mon  \\\n",
       "6861              45                         6                       3   \n",
       "9846              45                         1                       3   \n",
       "\n",
       "      Contacts_Count_12_mon  Credit_Limit  Total_Revolving_Bal  \\\n",
       "6861                      3       34516.0                    0   \n",
       "9846                      3       34516.0                  550   \n",
       "\n",
       "      Avg_Open_To_Buy  Total_Trans_Amt  Total_Trans_Ct  Avg_Utilization_Ratio  \n",
       "6861          34516.0             2573              55                  0.000  \n",
       "9846          33966.0             7341              71                  0.016  "
      ]
     },
     "execution_count": 118,
     "metadata": {},
     "output_type": "execute_result"
    }
   ],
   "source": [
    "df[(df['Attrition_Flag']=='Attrited Customer') & (df['Education_Level']=='Doctorate') & (df['Income_Category']=='$120K +') & (df['Credit_Limit']>=30984)]"
   ]
  },
  {
   "cell_type": "code",
   "execution_count": null,
   "id": "8705282f",
   "metadata": {},
   "outputs": [],
   "source": []
  }
 ],
 "metadata": {
  "kernelspec": {
   "display_name": "Python 3 (ipykernel)",
   "language": "python",
   "name": "python3"
  },
  "language_info": {
   "codemirror_mode": {
    "name": "ipython",
    "version": 3
   },
   "file_extension": ".py",
   "mimetype": "text/x-python",
   "name": "python",
   "nbconvert_exporter": "python",
   "pygments_lexer": "ipython3",
   "version": "3.9.13"
  }
 },
 "nbformat": 4,
 "nbformat_minor": 5
}
